{
  "nbformat": 4,
  "nbformat_minor": 0,
  "metadata": {
    "colab": {
      "name": "Halt_Dense.ipynb",
      "provenance": [],
      "collapsed_sections": [
        "7u7PrB2BI_LS",
        "VT5mLiDM034L",
        "S2JuLiLRDio2",
        "O9lESbOc454f",
        "woZV8dkI4228",
        "soiO1VyB8Sid"
      ],
      "authorship_tag": "ABX9TyNya7bBMm94j0yN8MGxDxYp",
      "include_colab_link": true
    },
    "kernelspec": {
      "name": "python3",
      "display_name": "Python 3"
    },
    "language_info": {
      "name": "python"
    }
  },
  "cells": [
    {
      "cell_type": "markdown",
      "metadata": {
        "id": "view-in-github",
        "colab_type": "text"
      },
      "source": [
        "<a href=\"https://colab.research.google.com/github/adiojha629/HaltConv/blob/main/Halt_Dense.ipynb\" target=\"_parent\"><img src=\"https://colab.research.google.com/assets/colab-badge.svg\" alt=\"Open In Colab\"/></a>"
      ]
    },
    {
      "cell_type": "markdown",
      "metadata": {
        "id": "7u7PrB2BI_LS"
      },
      "source": [
        "# Libraries"
      ]
    },
    {
      "cell_type": "code",
      "metadata": {
        "id": "DdvOtjl90nFu"
      },
      "source": [
        "import torch #Pytorch used for Model creation\n",
        "import torchvision\n",
        "from torchvision import datasets, transforms # 'datasets' gives us MNIST, 'transforms' allows use to turn images into tensors\n",
        "import matplotlib.pyplot as plt #To View Images\n",
        "import torch.nn as nn #To set up the model\n",
        "import torch.nn.functional as F #To calculate loss, use different activations etc.\n",
        "import torch.optim as optim #To access the adam optimizer\n",
        "import pandas as pd\n",
        "import numpy as np\n",
        "import matplotlib.pyplot as plt\n",
        "import random\n",
        "import csv\n",
        "import torch.optim as optim\n",
        "from operator import add,truediv\n",
        "from sys import getsizeof"
      ],
      "execution_count": 43,
      "outputs": []
    },
    {
      "cell_type": "code",
      "metadata": {
        "id": "2piAGJ_Sv2iR"
      },
      "source": [
        "if False:\n",
        "  vanilla_fl_dict = {'Server': [[1.791189040851593, 0.3603], [1.0364729088753462, 0.6331], [0.8723062273774296, 0.6967], [0.8009874275865033, 0.7247], [0.7405818013698329, 0.748], [0.695321643771138, 0.7635], [0.6611248622483574, 0.7776], [0.6337108630706091, 0.7858], [0.6418373847729526, 0.7834], [0.5955128319623647, 0.7997]]}\n",
        "  test_accuracy = [vanilla_fl_dict['Server'][i][1] for i in range(len(vanilla_fl_dict['Server']))]\n",
        "  test_loss = [vanilla_fl_dict['Server'][i][0] for i in range(len(vanilla_fl_dict['Server']))]\n",
        "\n",
        "  fig,ax = plt.subplots(1,2,figsize=(12,6))\n",
        "  ax[0].plot(test_accuracy,'b')\n",
        "  ax[0].set_title(\"Global Accuracy vs. Communication Round\")\n",
        "  ax[0].set_xlabel(\"Communication Round\")\n",
        "  ax[0].set_ylabel(\"Accuracy\")\n",
        "  ax[1].plot(test_loss,'g')\n",
        "  ax[1].set_title(\"Global Loss vs. Communication Round\")\n",
        "  ax[1].set_xlabel(\"Communication Round\")\n",
        "  ax[1].set_ylabel(\"Neg. Log Likihood Loss\")\n",
        "  fig.show()\n",
        "  fig.savefig(\"Vanilla_FL.png\")"
      ],
      "execution_count": 44,
      "outputs": []
    },
    {
      "cell_type": "markdown",
      "metadata": {
        "id": "zvHhpZw4rDC8"
      },
      "source": [
        "# Load Cifar-10 and practice training\n",
        "\n",
        "Cifar loading code borrowed from:<br>\n",
        "https://pytorch.org/tutorials/beginner/blitz/cifar10_tutorial.html\n"
      ]
    },
    {
      "cell_type": "code",
      "metadata": {
        "id": "wSPJKV8oBO2w",
        "colab": {
          "base_uri": "https://localhost:8080/"
        },
        "outputId": "fb23e51d-d973-4c1c-fa9d-c0e4662a0962"
      },
      "source": [
        "print(\"Load Cifar and practice training\")\n",
        "transform = transforms.Compose(\n",
        "    [transforms.ToTensor(),\n",
        "     transforms.Normalize((0.5, 0.5, 0.5), (0.5, 0.5, 0.5))])\n",
        "\n",
        "batch_size = 4\n",
        "num_devices = 4\n",
        "\n",
        "trainset = torchvision.datasets.CIFAR10(root='./data', train=True,\n",
        "                                        download=True, transform=transform)\n",
        "trainloader = torch.utils.data.DataLoader(trainset, batch_size=batch_size, # for server\n",
        "                                          shuffle=True, num_workers=2)\n",
        "#from : https://towardsdatascience.com/preserving-data-privacy-in-deep-learning-part-1-a04894f78029\n",
        "# Dividing the training data into num_clients, with each client having equal number of images\n",
        "traindata_split = torch.utils.data.random_split(trainset, [int(trainset.data.shape[0] / num_devices) for _ in range(num_devices)])\n",
        "#^ for clients\n",
        "\n",
        "# Creating a pytorch loader for a Deep Learning model\n",
        "train_loader = [torch.utils.data.DataLoader(x, batch_size=batch_size, shuffle=True) for x in traindata_split]\n",
        "\n",
        "\n",
        "testset = torchvision.datasets.CIFAR10(root='./data', train=False,\n",
        "                                       download=True, transform=transform)\n",
        "testloader = torch.utils.data.DataLoader(testset, batch_size=batch_size,\n",
        "                                         shuffle=True, num_workers=2)\n",
        "\n",
        "classes = ('plane', 'car', 'bird', 'cat',\n",
        "           'deer', 'dog', 'frog', 'horse', 'ship', 'truck')"
      ],
      "execution_count": 45,
      "outputs": [
        {
          "output_type": "stream",
          "text": [
            "Load Cifar and practice training\n",
            "Files already downloaded and verified\n",
            "Files already downloaded and verified\n"
          ],
          "name": "stdout"
        }
      ]
    },
    {
      "cell_type": "markdown",
      "metadata": {
        "id": "VT5mLiDM034L"
      },
      "source": [
        "# Halt Dense Simulation\n",
        "during each model update <br>\n",
        "if accuracy > threshold:<br>\n",
        "> share convolutional and dense layers\n",
        "<br>else:<br>\n",
        "> share convolutional layers only\n",
        "\n",
        "## Classes needed\n",
        "\n"
      ]
    },
    {
      "cell_type": "code",
      "metadata": {
        "id": "LdrGCbww1V_N"
      },
      "source": [
        "# Super-class model\n",
        "# Now use setup from FedMax\n",
        "Allen_Net = {'Conv': [32,'M',64,64,'M',64,64,'M'],\n",
        "             'MLP': [(1024,512),'ReLU',(512,10)]} # 'MLP' for user-readability, not used to generate dense layers\n",
        "\n",
        "class Model(nn.Module):\n",
        "  def __init__(self,net_setup):\n",
        "    super().__init__()\n",
        "    self.ConvLayers = self._make_conv(net_setup['Conv'])\n",
        "    self.MLP = nn.Sequential(nn.Linear(1024,512),nn.ReLU(True),nn.Linear(512,10))\n",
        "    self.criterion = nn.CrossEntropyLoss()\n",
        "    self.optimizer = optim.SGD(self.parameters(), lr=0.001, momentum=0.9)\n",
        "  def _make_conv(self,layer_list):\n",
        "    layer = [] # add layers based on layer_list\n",
        "    in_channel = 3 # starting in_channel\n",
        "    for x in layer_list:\n",
        "      if x == 'M':# Add maxpool2d\n",
        "        layer += [nn.MaxPool2d(kernel_size = 2,stride = 2)]\n",
        "      else:\n",
        "        layer += [nn.Conv2d(in_channel,x,kernel_size = 3,padding=1),nn.BatchNorm2d(x),nn.ReLU(inplace=True)]\n",
        "        in_channel = x # set new channel size\n",
        "    return nn.Sequential(*layer) # make layers into sequential object\n",
        "  def forward(self,x):\n",
        "    out1 = self.ConvLayers(x) # conv\n",
        "    out2 = out1.view(out1.size(0),-1) # flatten\n",
        "    out3 = self.MLP(out2) # mlp\n",
        "    return F.log_softmax(out3,dim=1) # log softmax activation \n",
        "  def getConvWeights(self):\n",
        "    return self.ConvLayers.state_dict()\n",
        "  def getDenseWeights(self):\n",
        "    return self.MLP.state_dict()\n",
        "  def setConvWeights(self,conv_state_dict):\n",
        "    self.ConvLayers.load_state_dict(conv_state_dict)\n",
        "\n",
        "  def setDenseWeights(self,dense_state_dict):\n",
        "    self.MLP.load_state_dict(dense_state_dict)\n",
        "\n",
        "def train(model,dataloader,epochs):\n",
        "  model.train()\n",
        "  running_loss = 0.0\n",
        "  for epoch in range(epochs):\n",
        "    for i,data in enumerate(dataloader):\n",
        "      inputs,labels = data\n",
        "      model.optimizer.zero_grad()\n",
        "      outputs = model.forward(inputs)\n",
        "      loss = model.criterion(outputs,labels)\n",
        "      running_loss += float(loss)\n",
        "      loss.backward()\n",
        "      model.optimizer.step()\n",
        "  return running_loss/len(dataloader.dataset)\n",
        "\n",
        "#Testing functions\n",
        "def test(model,testloader):\n",
        "  model.eval()\n",
        "  test_loss = 0\n",
        "  correct = 0\n",
        "  with torch.no_grad():\n",
        "    for data,target in testloader:\n",
        "      #data,target = data.cuda(),target.cuda()\n",
        "      output = model(data)\n",
        "      test_loss += F.nll_loss(output,target,reduction='sum').item()\n",
        "      pred = output.argmax(dim=1,keepdim=True)\n",
        "      correct += pred.eq(target.view_as(pred)).sum().item()\n",
        "  test_loss /= len(testloader.dataset)\n",
        "  acc = correct/len(testloader.dataset)\n",
        "  return test_loss,acc"
      ],
      "execution_count": 4,
      "outputs": []
    },
    {
      "cell_type": "markdown",
      "metadata": {
        "id": "S2JuLiLRDio2"
      },
      "source": [
        "## Debug Model Class"
      ]
    },
    {
      "cell_type": "code",
      "metadata": {
        "id": "Du25BRnMATlG",
        "colab": {
          "base_uri": "https://localhost:8080/"
        },
        "outputId": "4e93038a-ac23-4eef-8436-e8b37029cca8"
      },
      "source": [
        "batch = 23\n",
        "color_channels = 3\n",
        "img_size = 32\n",
        "x = torch.randn(batch,color_channels,img_size,img_size)\n",
        "server = Model(Allen_Net)\n",
        "#server(x) # it works! May 29th 4:54pm\n",
        "x = server.getConvWeights()\n",
        "#x[0].size()\n",
        "y = server.getDenseWeights()\n",
        "#y[0].size() # should be 128x128\n",
        "\n",
        "device1 = Model(Allen_Net) # test of setConvWeights\n",
        "x = server.getConvWeights()\n",
        "print(id(x))\n",
        "device1.setConvWeights(server.getConvWeights())\n",
        "y = device1.getConvWeights()\n",
        "print(id(y))\n",
        "for i,j in zip(x,y):\n",
        "  assert id(x) != id(y) # shouldn't be at the same address \n",
        "\n",
        "device1 = Model(Allen_Net) # test of setConvWeights\n",
        "x = server.getDenseWeights()\n",
        "print(id(x))\n",
        "device1.setDenseWeights(server.getDenseWeights())\n",
        "y = device1.getDenseWeights()\n",
        "print(id(y))\n",
        "for i,j in zip(x,y):\n",
        "  assert id(x) != id(y) # shouldn't be at the same address \n",
        "\n",
        "print(getsizeof(server.getDenseWeights()))\n",
        "print(getsizeof(server.getConvWeights()))\n",
        "print(\"Passed prelim tests\")"
      ],
      "execution_count": null,
      "outputs": [
        {
          "output_type": "stream",
          "text": [
            "139757298336832\n",
            "139757298336112\n",
            "139757298335824\n",
            "139757298336688\n",
            "504\n",
            "2888\n",
            "Passed prelim tests\n"
          ],
          "name": "stdout"
        }
      ]
    },
    {
      "cell_type": "markdown",
      "metadata": {
        "id": "O9lESbOc454f"
      },
      "source": [
        "# Vanilla FL"
      ]
    },
    {
      "cell_type": "code",
      "metadata": {
        "id": "F1hyysLNtGfL",
        "colab": {
          "base_uri": "https://localhost:8080/"
        },
        "outputId": "81c63b17-ce6d-450d-886a-1cbca460a35b"
      },
      "source": [
        "def Vanilla_FL(num_devices=4,communication_rounds = 10,epoches = 1,train_loader,testloader)\n",
        "  print(\"Set up devices for vanilla FL\")\n",
        "  results_dict = dict()\n",
        "  results_dict['Bytes Sent'] = 0\n",
        "  #num_devices = num_clients\n",
        "  for i in range(num_devices):\n",
        "    results_dict[\"Device \"+str(i)] = []\n",
        "  results_dict[\"Server\"] = []\n",
        "  #communication_rounds = 10\n",
        "  #epoches = 1\n",
        "  devices = []\n",
        "  for i in range(num_devices): # init devices and server\n",
        "    devices.append(Model(Allen_Net))\n",
        "  server = Model(Allen_Net)\n",
        "\n",
        "  for i in range(communication_rounds): # training loop\n",
        "    print(\"Starting Communication Round %d\"%(i))\n",
        "    print(\"Transfer Global Model to devices\")\n",
        "    for device in devices:\n",
        "      device.setConvWeights(server.getConvWeights())\n",
        "      device.setDenseWeights(server.getDenseWeights())\n",
        "\n",
        "    print(\"Training each device\")\n",
        "    for i,device in enumerate(devices):\n",
        "      loss = train(device,train_loader[i],epoches)\n",
        "      test_l,acc = test(device,train_loader[i])\n",
        "      results_dict[\"Device \"+str(i)].append([loss,test_l,acc])\n",
        "      print(\"Device %d has training loss %f, testing loss %f, acc %f\"%(i,loss,test_l,acc))\n",
        "    \n",
        "    print(\"Aggregate device models to server\")\n",
        "    global_dict = server.state_dict()\n",
        "    for k in global_dict.keys():\n",
        "      results_dict['Bytes Sent'] += getsizeof([devices[i].state_dict()[k].float() for i in range(num_devices)])\n",
        "      print(\"Total bytes sent so far %d\"%(results_dict['Bytes Sent']))\n",
        "      global_dict[k] = torch.stack([devices[i].state_dict()[k].float() for i in range(num_devices)],0).mean(0)\n",
        "    server.load_state_dict(global_dict)\n",
        "\n",
        "    # test server\n",
        "    test_loss,acc = test(server,testloader)\n",
        "    print(\"Server Accuracy %f, test loss %f\"%(acc,test_loss))\n",
        "    results_dict[\"Server\"].append([test_loss,acc])\n",
        "  print(\"Results Dict\")\n",
        "  print(results_dict)\n",
        "  return results_dict"
      ],
      "execution_count": null,
      "outputs": [
        {
          "output_type": "stream",
          "text": [
            "Set up devices for vanilla FL\n",
            "Starting Communication Round 0\n",
            "Transfer Global Model to devices\n",
            "Training each device\n"
          ],
          "name": "stdout"
        },
        {
          "output_type": "stream",
          "text": [
            "/usr/local/lib/python3.7/dist-packages/torch/nn/functional.py:718: UserWarning: Named tensors and all their associated APIs are an experimental feature and subject to change. Please do not use them for anything important until they are released as stable. (Triggered internally at  /pytorch/c10/core/TensorImpl.h:1156.)\n",
            "  return torch.max_pool2d(input, kernel_size, stride, padding, dilation, ceil_mode)\n"
          ],
          "name": "stderr"
        },
        {
          "output_type": "stream",
          "text": [
            "Device 0 has training loss 5145.231034, testing loss 1.207862, acc 0.553040\n",
            "Device 1 has training loss 5077.636754, testing loss 1.261184, acc 0.534400\n",
            "Device 2 has training loss 5073.832818, testing loss 1.268007, acc 0.547040\n",
            "Device 3 has training loss 5113.694790, testing loss 1.337343, acc 0.525840\n",
            "Aggregate device models to server\n",
            "Total bytes sent so far 104\n",
            "Total bytes sent so far 208\n",
            "Total bytes sent so far 312\n",
            "Total bytes sent so far 416\n",
            "Total bytes sent so far 520\n",
            "Total bytes sent so far 624\n",
            "Total bytes sent so far 728\n",
            "Total bytes sent so far 832\n",
            "Total bytes sent so far 936\n",
            "Total bytes sent so far 1040\n",
            "Total bytes sent so far 1144\n",
            "Total bytes sent so far 1248\n",
            "Total bytes sent so far 1352\n",
            "Total bytes sent so far 1456\n",
            "Total bytes sent so far 1560\n",
            "Total bytes sent so far 1664\n",
            "Total bytes sent so far 1768\n",
            "Total bytes sent so far 1872\n",
            "Total bytes sent so far 1976\n",
            "Total bytes sent so far 2080\n",
            "Total bytes sent so far 2184\n",
            "Total bytes sent so far 2288\n",
            "Total bytes sent so far 2392\n",
            "Total bytes sent so far 2496\n",
            "Total bytes sent so far 2600\n",
            "Total bytes sent so far 2704\n",
            "Total bytes sent so far 2808\n",
            "Total bytes sent so far 2912\n",
            "Total bytes sent so far 3016\n",
            "Total bytes sent so far 3120\n",
            "Total bytes sent so far 3224\n",
            "Total bytes sent so far 3328\n",
            "Total bytes sent so far 3432\n",
            "Total bytes sent so far 3536\n",
            "Total bytes sent so far 3640\n",
            "Total bytes sent so far 3744\n",
            "Total bytes sent so far 3848\n",
            "Total bytes sent so far 3952\n",
            "Total bytes sent so far 4056\n",
            "Server Accuracy 0.356800, test loss 1.799307\n",
            "Starting Communication Round 1\n",
            "Transfer Global Model to devices\n",
            "Training each device\n",
            "Device 0 has training loss 4226.041841, testing loss 1.095145, acc 0.617120\n",
            "Device 1 has training loss 4180.119364, testing loss 1.067761, acc 0.617600\n",
            "Device 2 has training loss 4218.274330, testing loss 1.095607, acc 0.611200\n",
            "Device 3 has training loss 4209.184382, testing loss 1.032801, acc 0.627680\n",
            "Aggregate device models to server\n",
            "Total bytes sent so far 4160\n",
            "Total bytes sent so far 4264\n",
            "Total bytes sent so far 4368\n",
            "Total bytes sent so far 4472\n",
            "Total bytes sent so far 4576\n",
            "Total bytes sent so far 4680\n",
            "Total bytes sent so far 4784\n",
            "Total bytes sent so far 4888\n",
            "Total bytes sent so far 4992\n",
            "Total bytes sent so far 5096\n",
            "Total bytes sent so far 5200\n",
            "Total bytes sent so far 5304\n",
            "Total bytes sent so far 5408\n",
            "Total bytes sent so far 5512\n",
            "Total bytes sent so far 5616\n",
            "Total bytes sent so far 5720\n",
            "Total bytes sent so far 5824\n",
            "Total bytes sent so far 5928\n",
            "Total bytes sent so far 6032\n",
            "Total bytes sent so far 6136\n",
            "Total bytes sent so far 6240\n",
            "Total bytes sent so far 6344\n",
            "Total bytes sent so far 6448\n",
            "Total bytes sent so far 6552\n",
            "Total bytes sent so far 6656\n",
            "Total bytes sent so far 6760\n",
            "Total bytes sent so far 6864\n",
            "Total bytes sent so far 6968\n",
            "Total bytes sent so far 7072\n",
            "Total bytes sent so far 7176\n",
            "Total bytes sent so far 7280\n",
            "Total bytes sent so far 7384\n",
            "Total bytes sent so far 7488\n",
            "Total bytes sent so far 7592\n",
            "Total bytes sent so far 7696\n",
            "Total bytes sent so far 7800\n",
            "Total bytes sent so far 7904\n",
            "Total bytes sent so far 8008\n",
            "Total bytes sent so far 8112\n",
            "Server Accuracy 0.637300, test loss 1.044033\n",
            "Starting Communication Round 2\n",
            "Transfer Global Model to devices\n",
            "Training each device\n",
            "Device 0 has training loss 3529.295009, testing loss 0.913233, acc 0.681360\n",
            "Device 1 has training loss 3485.886724, testing loss 0.921300, acc 0.675920\n",
            "Device 2 has training loss 3530.574846, testing loss 0.869734, acc 0.688720\n",
            "Device 3 has training loss 3511.959508, testing loss 0.892774, acc 0.678800\n",
            "Aggregate device models to server\n",
            "Total bytes sent so far 8216\n",
            "Total bytes sent so far 8320\n",
            "Total bytes sent so far 8424\n",
            "Total bytes sent so far 8528\n",
            "Total bytes sent so far 8632\n",
            "Total bytes sent so far 8736\n",
            "Total bytes sent so far 8840\n",
            "Total bytes sent so far 8944\n",
            "Total bytes sent so far 9048\n",
            "Total bytes sent so far 9152\n",
            "Total bytes sent so far 9256\n",
            "Total bytes sent so far 9360\n",
            "Total bytes sent so far 9464\n",
            "Total bytes sent so far 9568\n",
            "Total bytes sent so far 9672\n",
            "Total bytes sent so far 9776\n",
            "Total bytes sent so far 9880\n",
            "Total bytes sent so far 9984\n",
            "Total bytes sent so far 10088\n",
            "Total bytes sent so far 10192\n",
            "Total bytes sent so far 10296\n",
            "Total bytes sent so far 10400\n",
            "Total bytes sent so far 10504\n",
            "Total bytes sent so far 10608\n",
            "Total bytes sent so far 10712\n",
            "Total bytes sent so far 10816\n",
            "Total bytes sent so far 10920\n",
            "Total bytes sent so far 11024\n",
            "Total bytes sent so far 11128\n",
            "Total bytes sent so far 11232\n",
            "Total bytes sent so far 11336\n",
            "Total bytes sent so far 11440\n",
            "Total bytes sent so far 11544\n",
            "Total bytes sent so far 11648\n",
            "Total bytes sent so far 11752\n",
            "Total bytes sent so far 11856\n",
            "Total bytes sent so far 11960\n",
            "Total bytes sent so far 12064\n",
            "Total bytes sent so far 12168\n",
            "Server Accuracy 0.689300, test loss 0.896787\n",
            "Starting Communication Round 3\n",
            "Transfer Global Model to devices\n",
            "Training each device\n",
            "Device 0 has training loss 3085.940731, testing loss 0.834112, acc 0.700880\n",
            "Device 1 has training loss 3033.292287, testing loss 0.780327, acc 0.722480\n",
            "Device 2 has training loss 3095.560915, testing loss 0.839053, acc 0.692080\n",
            "Device 3 has training loss 3111.887271, testing loss 0.766124, acc 0.734320\n",
            "Aggregate device models to server\n",
            "Total bytes sent so far 12272\n",
            "Total bytes sent so far 12376\n",
            "Total bytes sent so far 12480\n",
            "Total bytes sent so far 12584\n",
            "Total bytes sent so far 12688\n",
            "Total bytes sent so far 12792\n",
            "Total bytes sent so far 12896\n",
            "Total bytes sent so far 13000\n",
            "Total bytes sent so far 13104\n",
            "Total bytes sent so far 13208\n",
            "Total bytes sent so far 13312\n",
            "Total bytes sent so far 13416\n",
            "Total bytes sent so far 13520\n",
            "Total bytes sent so far 13624\n",
            "Total bytes sent so far 13728\n",
            "Total bytes sent so far 13832\n",
            "Total bytes sent so far 13936\n",
            "Total bytes sent so far 14040\n",
            "Total bytes sent so far 14144\n",
            "Total bytes sent so far 14248\n",
            "Total bytes sent so far 14352\n",
            "Total bytes sent so far 14456\n",
            "Total bytes sent so far 14560\n",
            "Total bytes sent so far 14664\n",
            "Total bytes sent so far 14768\n",
            "Total bytes sent so far 14872\n",
            "Total bytes sent so far 14976\n",
            "Total bytes sent so far 15080\n",
            "Total bytes sent so far 15184\n",
            "Total bytes sent so far 15288\n",
            "Total bytes sent so far 15392\n",
            "Total bytes sent so far 15496\n",
            "Total bytes sent so far 15600\n",
            "Total bytes sent so far 15704\n",
            "Total bytes sent so far 15808\n",
            "Total bytes sent so far 15912\n",
            "Total bytes sent so far 16016\n",
            "Total bytes sent so far 16120\n",
            "Total bytes sent so far 16224\n",
            "Server Accuracy 0.721300, test loss 0.803737\n",
            "Starting Communication Round 4\n",
            "Transfer Global Model to devices\n",
            "Training each device\n",
            "Device 0 has training loss 2794.755204, testing loss 0.766330, acc 0.722160\n",
            "Device 1 has training loss 2762.350876, testing loss 0.676983, acc 0.760640\n",
            "Device 2 has training loss 2826.699965, testing loss 0.730839, acc 0.737120\n",
            "Device 3 has training loss 2790.901545, testing loss 0.746923, acc 0.740720\n",
            "Aggregate device models to server\n",
            "Total bytes sent so far 16328\n",
            "Total bytes sent so far 16432\n",
            "Total bytes sent so far 16536\n",
            "Total bytes sent so far 16640\n",
            "Total bytes sent so far 16744\n",
            "Total bytes sent so far 16848\n",
            "Total bytes sent so far 16952\n",
            "Total bytes sent so far 17056\n",
            "Total bytes sent so far 17160\n",
            "Total bytes sent so far 17264\n",
            "Total bytes sent so far 17368\n",
            "Total bytes sent so far 17472\n",
            "Total bytes sent so far 17576\n",
            "Total bytes sent so far 17680\n",
            "Total bytes sent so far 17784\n",
            "Total bytes sent so far 17888\n",
            "Total bytes sent so far 17992\n",
            "Total bytes sent so far 18096\n",
            "Total bytes sent so far 18200\n",
            "Total bytes sent so far 18304\n",
            "Total bytes sent so far 18408\n",
            "Total bytes sent so far 18512\n",
            "Total bytes sent so far 18616\n",
            "Total bytes sent so far 18720\n",
            "Total bytes sent so far 18824\n",
            "Total bytes sent so far 18928\n",
            "Total bytes sent so far 19032\n",
            "Total bytes sent so far 19136\n",
            "Total bytes sent so far 19240\n",
            "Total bytes sent so far 19344\n",
            "Total bytes sent so far 19448\n",
            "Total bytes sent so far 19552\n",
            "Total bytes sent so far 19656\n",
            "Total bytes sent so far 19760\n",
            "Total bytes sent so far 19864\n",
            "Total bytes sent so far 19968\n",
            "Total bytes sent so far 20072\n",
            "Total bytes sent so far 20176\n",
            "Total bytes sent so far 20280\n",
            "Server Accuracy 0.747200, test loss 0.738572\n",
            "Starting Communication Round 5\n",
            "Transfer Global Model to devices\n",
            "Training each device\n",
            "Device 0 has training loss 2547.519772, testing loss 0.658675, acc 0.757360\n",
            "Device 1 has training loss 2525.208177, testing loss 0.654426, acc 0.774000\n",
            "Device 2 has training loss 2610.375350, testing loss 0.621021, acc 0.785360\n",
            "Device 3 has training loss 2576.978337, testing loss 0.600474, acc 0.797520\n",
            "Aggregate device models to server\n",
            "Total bytes sent so far 20384\n",
            "Total bytes sent so far 20488\n",
            "Total bytes sent so far 20592\n",
            "Total bytes sent so far 20696\n",
            "Total bytes sent so far 20800\n",
            "Total bytes sent so far 20904\n",
            "Total bytes sent so far 21008\n",
            "Total bytes sent so far 21112\n",
            "Total bytes sent so far 21216\n",
            "Total bytes sent so far 21320\n",
            "Total bytes sent so far 21424\n",
            "Total bytes sent so far 21528\n",
            "Total bytes sent so far 21632\n",
            "Total bytes sent so far 21736\n",
            "Total bytes sent so far 21840\n",
            "Total bytes sent so far 21944\n",
            "Total bytes sent so far 22048\n",
            "Total bytes sent so far 22152\n",
            "Total bytes sent so far 22256\n",
            "Total bytes sent so far 22360\n",
            "Total bytes sent so far 22464\n",
            "Total bytes sent so far 22568\n",
            "Total bytes sent so far 22672\n",
            "Total bytes sent so far 22776\n",
            "Total bytes sent so far 22880\n",
            "Total bytes sent so far 22984\n",
            "Total bytes sent so far 23088\n",
            "Total bytes sent so far 23192\n",
            "Total bytes sent so far 23296\n",
            "Total bytes sent so far 23400\n",
            "Total bytes sent so far 23504\n",
            "Total bytes sent so far 23608\n",
            "Total bytes sent so far 23712\n",
            "Total bytes sent so far 23816\n",
            "Total bytes sent so far 23920\n",
            "Total bytes sent so far 24024\n",
            "Total bytes sent so far 24128\n",
            "Total bytes sent so far 24232\n",
            "Total bytes sent so far 24336\n",
            "Server Accuracy 0.763200, test loss 0.693776\n",
            "Starting Communication Round 6\n",
            "Transfer Global Model to devices\n",
            "Training each device\n",
            "Device 0 has training loss 2337.246002, testing loss 0.691483, acc 0.757360\n",
            "Device 1 has training loss 2300.099570, testing loss 0.613120, acc 0.782640\n",
            "Device 2 has training loss 2379.113128, testing loss 0.624294, acc 0.782000\n",
            "Device 3 has training loss 2358.039762, testing loss 0.686995, acc 0.758800\n",
            "Aggregate device models to server\n",
            "Total bytes sent so far 24440\n",
            "Total bytes sent so far 24544\n",
            "Total bytes sent so far 24648\n",
            "Total bytes sent so far 24752\n",
            "Total bytes sent so far 24856\n",
            "Total bytes sent so far 24960\n",
            "Total bytes sent so far 25064\n",
            "Total bytes sent so far 25168\n",
            "Total bytes sent so far 25272\n",
            "Total bytes sent so far 25376\n",
            "Total bytes sent so far 25480\n",
            "Total bytes sent so far 25584\n",
            "Total bytes sent so far 25688\n",
            "Total bytes sent so far 25792\n",
            "Total bytes sent so far 25896\n",
            "Total bytes sent so far 26000\n",
            "Total bytes sent so far 26104\n",
            "Total bytes sent so far 26208\n",
            "Total bytes sent so far 26312\n",
            "Total bytes sent so far 26416\n",
            "Total bytes sent so far 26520\n",
            "Total bytes sent so far 26624\n",
            "Total bytes sent so far 26728\n",
            "Total bytes sent so far 26832\n",
            "Total bytes sent so far 26936\n",
            "Total bytes sent so far 27040\n",
            "Total bytes sent so far 27144\n",
            "Total bytes sent so far 27248\n",
            "Total bytes sent so far 27352\n",
            "Total bytes sent so far 27456\n",
            "Total bytes sent so far 27560\n",
            "Total bytes sent so far 27664\n",
            "Total bytes sent so far 27768\n",
            "Total bytes sent so far 27872\n",
            "Total bytes sent so far 27976\n",
            "Total bytes sent so far 28080\n",
            "Total bytes sent so far 28184\n",
            "Total bytes sent so far 28288\n",
            "Total bytes sent so far 28392\n",
            "Server Accuracy 0.762600, test loss 0.691845\n",
            "Starting Communication Round 7\n",
            "Transfer Global Model to devices\n",
            "Training each device\n",
            "Device 0 has training loss 2185.703907, testing loss 0.541252, acc 0.816720\n",
            "Device 1 has training loss 2152.301797, testing loss 0.501778, acc 0.827840\n",
            "Device 2 has training loss 2228.323589, testing loss 0.518490, acc 0.818560\n",
            "Device 3 has training loss 2229.084337, testing loss 0.535487, acc 0.813520\n",
            "Aggregate device models to server\n",
            "Total bytes sent so far 28496\n",
            "Total bytes sent so far 28600\n",
            "Total bytes sent so far 28704\n",
            "Total bytes sent so far 28808\n",
            "Total bytes sent so far 28912\n",
            "Total bytes sent so far 29016\n",
            "Total bytes sent so far 29120\n",
            "Total bytes sent so far 29224\n",
            "Total bytes sent so far 29328\n",
            "Total bytes sent so far 29432\n",
            "Total bytes sent so far 29536\n",
            "Total bytes sent so far 29640\n",
            "Total bytes sent so far 29744\n",
            "Total bytes sent so far 29848\n",
            "Total bytes sent so far 29952\n",
            "Total bytes sent so far 30056\n",
            "Total bytes sent so far 30160\n",
            "Total bytes sent so far 30264\n",
            "Total bytes sent so far 30368\n",
            "Total bytes sent so far 30472\n",
            "Total bytes sent so far 30576\n",
            "Total bytes sent so far 30680\n",
            "Total bytes sent so far 30784\n",
            "Total bytes sent so far 30888\n",
            "Total bytes sent so far 30992\n",
            "Total bytes sent so far 31096\n",
            "Total bytes sent so far 31200\n",
            "Total bytes sent so far 31304\n",
            "Total bytes sent so far 31408\n",
            "Total bytes sent so far 31512\n",
            "Total bytes sent so far 31616\n",
            "Total bytes sent so far 31720\n",
            "Total bytes sent so far 31824\n",
            "Total bytes sent so far 31928\n",
            "Total bytes sent so far 32032\n",
            "Total bytes sent so far 32136\n",
            "Total bytes sent so far 32240\n",
            "Total bytes sent so far 32344\n",
            "Total bytes sent so far 32448\n",
            "Server Accuracy 0.782400, test loss 0.642357\n",
            "Starting Communication Round 8\n",
            "Transfer Global Model to devices\n",
            "Training each device\n",
            "Device 0 has training loss 2059.951778, testing loss 0.485387, acc 0.827520\n",
            "Device 1 has training loss 2002.028231, testing loss 0.481389, acc 0.831440\n",
            "Device 2 has training loss 2091.701594, testing loss 0.475545, acc 0.836560\n",
            "Device 3 has training loss 2052.012077, testing loss 0.478641, acc 0.833360\n",
            "Aggregate device models to server\n",
            "Total bytes sent so far 32552\n",
            "Total bytes sent so far 32656\n",
            "Total bytes sent so far 32760\n",
            "Total bytes sent so far 32864\n",
            "Total bytes sent so far 32968\n",
            "Total bytes sent so far 33072\n",
            "Total bytes sent so far 33176\n",
            "Total bytes sent so far 33280\n",
            "Total bytes sent so far 33384\n",
            "Total bytes sent so far 33488\n",
            "Total bytes sent so far 33592\n",
            "Total bytes sent so far 33696\n",
            "Total bytes sent so far 33800\n",
            "Total bytes sent so far 33904\n",
            "Total bytes sent so far 34008\n",
            "Total bytes sent so far 34112\n",
            "Total bytes sent so far 34216\n",
            "Total bytes sent so far 34320\n",
            "Total bytes sent so far 34424\n",
            "Total bytes sent so far 34528\n",
            "Total bytes sent so far 34632\n",
            "Total bytes sent so far 34736\n",
            "Total bytes sent so far 34840\n",
            "Total bytes sent so far 34944\n",
            "Total bytes sent so far 35048\n",
            "Total bytes sent so far 35152\n",
            "Total bytes sent so far 35256\n",
            "Total bytes sent so far 35360\n",
            "Total bytes sent so far 35464\n",
            "Total bytes sent so far 35568\n",
            "Total bytes sent so far 35672\n",
            "Total bytes sent so far 35776\n",
            "Total bytes sent so far 35880\n",
            "Total bytes sent so far 35984\n",
            "Total bytes sent so far 36088\n",
            "Total bytes sent so far 36192\n",
            "Total bytes sent so far 36296\n",
            "Total bytes sent so far 36400\n",
            "Total bytes sent so far 36504\n",
            "Server Accuracy 0.786000, test loss 0.616905\n",
            "Starting Communication Round 9\n",
            "Transfer Global Model to devices\n",
            "Training each device\n",
            "Device 0 has training loss 1896.707479, testing loss 0.455621, acc 0.843200\n",
            "Device 1 has training loss 1868.159581, testing loss 0.417000, acc 0.859520\n",
            "Device 2 has training loss 1957.749351, testing loss 0.473420, acc 0.840720\n",
            "Device 3 has training loss 1933.484855, testing loss 0.419801, acc 0.855520\n",
            "Aggregate device models to server\n",
            "Total bytes sent so far 36608\n",
            "Total bytes sent so far 36712\n",
            "Total bytes sent so far 36816\n",
            "Total bytes sent so far 36920\n",
            "Total bytes sent so far 37024\n",
            "Total bytes sent so far 37128\n",
            "Total bytes sent so far 37232\n",
            "Total bytes sent so far 37336\n",
            "Total bytes sent so far 37440\n",
            "Total bytes sent so far 37544\n",
            "Total bytes sent so far 37648\n",
            "Total bytes sent so far 37752\n",
            "Total bytes sent so far 37856\n",
            "Total bytes sent so far 37960\n",
            "Total bytes sent so far 38064\n",
            "Total bytes sent so far 38168\n",
            "Total bytes sent so far 38272\n",
            "Total bytes sent so far 38376\n",
            "Total bytes sent so far 38480\n",
            "Total bytes sent so far 38584\n",
            "Total bytes sent so far 38688\n",
            "Total bytes sent so far 38792\n",
            "Total bytes sent so far 38896\n",
            "Total bytes sent so far 39000\n",
            "Total bytes sent so far 39104\n",
            "Total bytes sent so far 39208\n",
            "Total bytes sent so far 39312\n",
            "Total bytes sent so far 39416\n",
            "Total bytes sent so far 39520\n",
            "Total bytes sent so far 39624\n",
            "Total bytes sent so far 39728\n",
            "Total bytes sent so far 39832\n",
            "Total bytes sent so far 39936\n",
            "Total bytes sent so far 40040\n",
            "Total bytes sent so far 40144\n",
            "Total bytes sent so far 40248\n",
            "Total bytes sent so far 40352\n",
            "Total bytes sent so far 40456\n",
            "Total bytes sent so far 40560\n",
            "Server Accuracy 0.790700, test loss 0.611169\n",
            "Results Dict\n",
            "{'Bytes Sent': 40560, 'Device 0': [[5145.231034487486, 1.207861735267639, 0.55304], [4226.0418413206935, 1.0951452721965313, 0.61712], [3529.2950090505183, 0.9132333676505089, 0.68136], [3085.9407312572002, 0.8341119278597832, 0.70088], [2794.7552044428885, 0.7663295542864501, 0.72216], [2547.5197721526492, 0.658674548991099, 0.75736], [2337.2460022768937, 0.6914825134161859, 0.75736], [2185.703906523064, 0.54125203442242, 0.81672], [2059.9517780360766, 0.48538657660294326, 0.82752], [1896.7074791470077, 0.45562092831443995, 0.8432]], 'Device 1': [[5077.636754065752, 1.2611838851833344, 0.5344], [4180.1193638294935, 1.067760889339447, 0.6176], [3485.8867235127836, 0.9213002681218088, 0.67592], [3033.292287072167, 0.7803270655024052, 0.72248], [2762.3508758414537, 0.6769827662729472, 0.76064], [2525.2081768512726, 0.6544260823169723, 0.774], [2300.0995701909997, 0.6131196867214516, 0.78264], [2152.3017968907952, 0.5017784722982347, 0.82784], [2002.0282310389448, 0.48138856030311433, 0.83144], [1868.1595811157022, 0.41699970443625933, 0.85952]], 'Device 2': [[5073.832818493247, 1.268006956050396, 0.54704], [4218.274330317974, 1.0956067915809153, 0.6112], [3530.57484639436, 0.8697340137305856, 0.68872], [3095.5609152894467, 0.8390527186429501, 0.69208], [2826.6999648693018, 0.7308386627581716, 0.73712], [2610.375350289978, 0.6210205507223308, 0.78536], [2379.113128222991, 0.6242944792589172, 0.782], [2228.3235890548676, 0.5184896956061386, 0.81856], [2091.7015941644786, 0.4755451312439051, 0.83656], [1957.7493506927276, 0.4734196319876611, 0.84072]], 'Device 3': [[5113.694789856672, 1.3373433143091202, 0.52584], [4209.184381619096, 1.032801234214902, 0.62768], [3511.9595075696707, 0.8927735311973095, 0.6788], [3111.887271495536, 0.766124115537107, 0.73432], [2790.9015453676693, 0.7469229742008447, 0.74072], [2576.9783371808007, 0.6004735556950793, 0.79752], [2358.0397623758763, 0.6869949368134514, 0.7588], [2229.084336923901, 0.5354869769760221, 0.81352], [2052.0120765093016, 0.4786412959071528, 0.83336], [1933.4848552292679, 0.4198013471852616, 0.85552]], 'Server': [[1.7993071609020233, 0.3568], [1.0440329832315445, 0.6373], [0.8967869917716831, 0.6893], [0.8037366865407676, 0.7213], [0.7385724975882564, 0.7472], [0.6937755026543513, 0.7632], [0.6918449471754022, 0.7626], [0.6423574030614458, 0.7824], [0.6169048489265726, 0.786], [0.6111687491498887, 0.7907]]}\n"
          ],
          "name": "stdout"
        }
      ]
    },
    {
      "cell_type": "code",
      "metadata": {
        "colab": {
          "base_uri": "https://localhost:8080/",
          "height": 434
        },
        "id": "e8x7QR4AZ5Uq",
        "outputId": "0d19a7ca-75fd-4340-ab49-abb4456f13b1"
      },
      "source": [
        "# Visualize results\n",
        "test_accuracy = [results_dict['Server'][i][1] for i in range(len(results_dict['Server']))]\n",
        "test_loss = [results_dict['Server'][i][0] for i in range(len(results_dict['Server']))]\n",
        "\n",
        "fig,ax = plt.subplots(1,2,figsize=(12,6))\n",
        "ax[0].plot(test_accuracy,'b')\n",
        "ax[0].set_title(\"Global Accuracy vs. Communication Round\\nVanilla FL\\nTotal Bytes Sent %d\"%(results_dict['Bytes Sent']))\n",
        "ax[0].set_xlabel(\"Communication Round\")\n",
        "ax[0].set_ylabel(\"Accuracy\")\n",
        "ax[1].plot(test_loss,'g')\n",
        "ax[1].set_title(\"Global Loss vs. Communication Round\\nVanilla FL\")\n",
        "ax[1].set_xlabel(\"Communication Round\")\n",
        "ax[1].set_ylabel(\"Neg. Log Likihood Loss\")\n",
        "fig.show()\n",
        "fig.savefig(\"Vanilla_FL.png\")"
      ],
      "execution_count": null,
      "outputs": [
        {
          "output_type": "display_data",
          "data": {
            "image/png": "[encoded data removed]",
            "text/plain": [
              "<Figure size 864x432 with 2 Axes>"
            ]
          },
          "metadata": {
            "tags": [],
            "needs_background": "light"
          }
        }
      ]
    },
    {
      "cell_type": "markdown",
      "metadata": {
        "id": "woZV8dkI4228"
      },
      "source": [
        "# Halt"
      ]
    },
    {
      "cell_type": "code",
      "metadata": {
        "id": "uVyqLZWB1AMK"
      },
      "source": [
        "def Halt_FL(train_loader,testloader,num_devices = 4,communication_rounds = 10,epoches = 1,alpha=0.80):\n",
        "  print(\"Set up devices for Halt- FL\")\n",
        "  #alpha = 0.75\n",
        "  results_dict = dict()\n",
        "  results_dict['Bytes Sent'] = 0\n",
        "  #num_devices = 4\n",
        "  for i in range(num_devices):\n",
        "    results_dict[\"Device \"+str(i)] = []\n",
        "  results_dict[\"Server\"] = []\n",
        "  #communication_rounds = 10\n",
        "  #epoches = 1\n",
        "  devices = []\n",
        "  for i in range(num_devices): # set up each device and server model\n",
        "    devices.append(Model(Allen_Net))\n",
        "  server = Model(Allen_Net)\n",
        "\n",
        "  for i in range(communication_rounds):\n",
        "    print(\"Starting Communication Round %d\"%(i))\n",
        "    print(\"Transfer Global Model to devices\")\n",
        "    for device in devices:\n",
        "      device.setConvWeights(server.getConvWeights())\n",
        "      device.setDenseWeights(server.getDenseWeights())\n",
        "\n",
        "    print(\"Training each device\")\n",
        "    dense_index = []\n",
        "    for i,device in enumerate(devices):\n",
        "      loss = train(device,train_loader[i],epoches)\n",
        "      test_l,acc = test(device,train_loader[i])\n",
        "      if acc > alpha:### need to check with alpha threshold\n",
        "        dense_index.append(i)\n",
        "      results_dict[\"Device \"+str(i)].append([loss,test_l,acc])\n",
        "      print(\"Device %d has training loss %f, testing loss %f, acc %f\"%(i,loss,test_l,acc))\n",
        "    \n",
        "    print(\"Aggregate device models to server.%d devices met threshold\"%(len(dense_index)))\n",
        "    #global_dict = server.state_dict()\n",
        "    global_conv = server.getConvWeights()\n",
        "    global_dense = server.getDenseWeights()\n",
        "    for k in global_conv.keys():\n",
        "      results_dict['Bytes Sent'] += getsizeof([devices[i].getConvWeights()[k].float() for i in range(num_devices)])\n",
        "      global_conv[k] = torch.stack([devices[i].getConvWeights()[k].float() for i in range(num_devices)],0).mean(0)\n",
        "    if len(dense_index) > 0: # if any device met threshold\n",
        "      for k in global_dense.keys():\n",
        "        results_dict['Bytes Sent'] += getsizeof([devices[i].getDenseWeights()[k].float() for i in dense_index])\n",
        "        global_dense[k] = torch.stack([devices[i].getDenseWeights()[k].float() for i in dense_index],0).mean(0)\n",
        "    #server.load_state_dict(global_dict)\n",
        "    server.setConvWeights(global_conv)\n",
        "    server.setDenseWeights(global_dense)\n",
        "    \n",
        "    # test server\n",
        "    test_loss,acc = test(server,testloader)\n",
        "    print(\"Server Accuracy %f, test loss %f\\n%d bytes sent\"%(acc,test_loss,results_dict['Bytes Sent']))\n",
        "    results_dict[\"Server\"].append([test_loss,acc])\n",
        "  print(\"Results Dict\")\n",
        "  print(results_dict)\n",
        "  return results_dict"
      ],
      "execution_count": 69,
      "outputs": []
    },
    {
      "cell_type": "code",
      "metadata": {
        "colab": {
          "base_uri": "https://localhost:8080/",
          "height": 419
        },
        "id": "eRrf2djbKGXt",
        "outputId": "6b22bbba-92d7-450e-9537-73146fa9a626"
      },
      "source": [
        "# visualize results\n",
        "test_accuracy = [results_dict['Server'][i][1] for i in range(len(results_dict['Server']))]\n",
        "test_loss = [results_dict['Server'][i][0] for i in range(len(results_dict['Server']))]\n",
        "\n",
        "fig,ax = plt.subplots(1,2,figsize=(12,6))\n",
        "ax[0].plot(test_accuracy,'b')\n",
        "ax[0].set_title(\"Global Accuracy vs. Communication Round alpha = 0.65\\nTotal Bytes Sent %d\"%(results_dict['Bytes Sent']))\n",
        "ax[0].set_xlabel(\"Communication Round\")\n",
        "ax[0].set_ylabel(\"Accuracy\")\n",
        "ax[1].plot(test_loss,'g')\n",
        "ax[1].set_title(\"Global Loss vs. Communication Round alpha = 0.65\")\n",
        "ax[1].set_xlabel(\"Communication Round\")\n",
        "ax[1].set_ylabel(\"Neg. Log Likihood Loss\")\n",
        "fig.show()\n",
        "fig.savefig(\"Halt_FL_alpha=.65.png\")"
      ],
      "execution_count": null,
      "outputs": [
        {
          "output_type": "display_data",
          "data": {
            "image/png": "[encoded data removed]",
            "text/plain": [
              "<Figure size 864x432 with 2 Axes>"
            ]
          },
          "metadata": {
            "tags": [],
            "needs_background": "light"
          }
        }
      ]
    },
    {
      "cell_type": "markdown",
      "metadata": {
        "id": "xtjveZiAIBxR"
      },
      "source": [
        "# Non-IID Dataloaders\n"
      ]
    },
    {
      "cell_type": "code",
      "metadata": {
        "id": "X574X7-7IHR-"
      },
      "source": [
        "# look here: https://github.com/AshwinRJ/Federated-Learning-PyTorch/blob/master/src/sampling.py"
      ],
      "execution_count": null,
      "outputs": []
    },
    {
      "cell_type": "code",
      "metadata": {
        "id": "CrWuVoQlILzU"
      },
      "source": [
        "import numpy as np\n",
        "from torchvision import datasets, transforms\n",
        "def get_labels(dataset):\n",
        "  \"\"\"\n",
        "  Get numpy array of labels from torchvision datasets object\n",
        "  :param: dataset- the torchvision dataset object to extract labels from\n",
        "  :return: np.array of all labels\n",
        "  \"\"\"\n",
        "  size = dataset.__len__()\n",
        "  labels = []\n",
        "  for i in range(size):\n",
        "    img,label = dataset.__getitem__(i)\n",
        "    labels.append(label)\n",
        "  return np.array(labels)\n",
        "def cifar_noniid(dataset, num_users):\n",
        "    \"\"\"\n",
        "    Sample non-I.I.D client data from CIFAR10 dataset\n",
        "    :param dataset:\n",
        "    :param num_users:\n",
        "    :return:\n",
        "    \"\"\"\n",
        "    num_shards, num_imgs = 200, 250\n",
        "    idx_shard = [i for i in range(num_shards)] # 0,1,2,...199\n",
        "    dict_users = {i: np.array([]) for i in range(num_users)} # dictionary of users\n",
        "    idxs = np.arange(num_shards*num_imgs) # 0,1,2, .... 49,999 : 50,000 length\n",
        "    #labels = dataset.train_labels.numpy()\n",
        "    #labels = np.array(dataset.train_labels) old way not work\n",
        "    labels = get_labels(dataset) # Length 50,000\n",
        "\n",
        "    # sort labels\n",
        "    idxs_labels = np.vstack((idxs, labels)) # [[0-49,999],[label1-label50,000]]\n",
        "    idxs_labels = idxs_labels[:, idxs_labels[1, :].argsort()] # sort labels \n",
        "    idxs = idxs_labels[0, :]\n",
        "\n",
        "    # divide and assign\n",
        "    for i in range(num_users):\n",
        "        rand_set = set(np.random.choice(idx_shard, 2, replace=False)) #sample 2 ids without replacement\n",
        "        idx_shard = list(set(idx_shard) - rand_set) # remove those 2 ids from idx_shard so they can't be choosen again\n",
        "        for rand in rand_set: # For each id, we choose one user, (b/c logic above we choose each user once)\n",
        "            dict_users[i] = np.concatenate(\n",
        "                (dict_users[i], idxs[rand*num_imgs:(rand+1)*num_imgs]), axis=0) # add one index\n",
        "            ## returns a dict where each user is a key, and the values are arrays of indices to specific images\n",
        "    for user in dict_users.keys():\n",
        "      id_array = dict_users[user].copy()\n",
        "      img_list = []\n",
        "      label_list = []\n",
        "      #print(id_array)\n",
        "      #adi = input()\n",
        "      for id in id_array:\n",
        "        img,label = dataset.__getitem__(int(id))\n",
        "        img_list.append(img)\n",
        "        label_list.append(label)\n",
        "      dict_users[user] = [img_list,label_list]\n",
        "    return dict_users # returns a dict where each user is a key, and \n",
        "    #the values is a list of 2 lists: one with images in order, other with corresponding labels"
      ],
      "execution_count": 46,
      "outputs": []
    },
    {
      "cell_type": "code",
      "metadata": {
        "id": "GXUYxgeyJZwm",
        "colab": {
          "base_uri": "https://localhost:8080/"
        },
        "outputId": "5723639f-f7b0-45ad-c559-eb707327e52c"
      },
      "source": [
        "x = cifar_noniid(trainset,10)\n",
        "#to check that all 10 classes are present\n",
        "labels = set()\n",
        "for key in x.keys():\n",
        "  labels = labels | set(x[key][1])\n",
        "print(labels)\n",
        "print(x.keys())\n",
        "# keys - index for each device\n",
        "# values - ndarray of"
      ],
      "execution_count": 47,
      "outputs": [
        {
          "output_type": "stream",
          "text": [
            "{0, 1, 2, 3, 4, 5, 6, 7, 8, 9}\n",
            "dict_keys([0, 1, 2, 3, 4, 5, 6, 7, 8, 9])\n"
          ],
          "name": "stdout"
        }
      ]
    },
    {
      "cell_type": "code",
      "metadata": {
        "id": "v_CYAvLRFYuy"
      },
      "source": [
        "# Define Dataset class for non-iid sets\n",
        "from torch.utils.data import Dataset, DataLoader\n",
        "class non_iid_dataset(Dataset):\n",
        "  def __init__(self,img_list,label_list,transform=None):\n",
        "    super().__init__()\n",
        "    self.imgs = torch.stack(img_list)\n",
        "    self.labels = np.array(label_list)\n",
        "    self.transform = transform\n",
        "  def __len__(self):\n",
        "    return len(self.labels)\n",
        "  def __getitem__(self, idx):\n",
        "        if torch.is_tensor(idx):\n",
        "            idx = idx.tolist()\n",
        "        img = self.imgs[idx]\n",
        "        label = self.labels[idx]\n",
        "        sample = {'image': img, 'landmarks': label}\n",
        "        if self.transform:\n",
        "          sample = self.transform(sample)\n",
        "  def __iter__(self):\n",
        "    return non_iid_iteratorClass(self)\n",
        "class non_iid_iteratorClass:\n",
        "  def __init__(self,data):\n",
        "    self._data = data\n",
        "    self._index = 0\n",
        "  def __next__(self):\n",
        "    if self._index < _data.__len__():\n",
        "      result = self._data.__getitem__(self._index)\n",
        "      self._index+=1\n",
        "      return result\n",
        "    else:\n",
        "      raise StopIteration"
      ],
      "execution_count": 76,
      "outputs": []
    },
    {
      "cell_type": "code",
      "metadata": {
        "colab": {
          "base_uri": "https://localhost:8080/"
        },
        "id": "mPX78ijYHI8E",
        "outputId": "0e0cf4ea-f49c-418d-8cc0-2dac174405c4"
      },
      "source": [
        "# create Dataloaders for non-iid data\n",
        "batch_size = 4\n",
        "num_devices = 4\n",
        "#non_iid_data = cifar_noniid(trainset,num_devices)\n",
        "transformer = transforms.Compose(\n",
        "    [transforms.ToTensor(),\n",
        "     transforms.Normalize((0.5, 0.5, 0.5), (0.5, 0.5, 0.5))])\n",
        "non_iid_train_split = [non_iid_dataset(img_list = non_iid_data[key][0],\n",
        "                                       label_list = non_iid_data[key][1],\n",
        "                                       transform = transformer) for key in non_iid_data.keys()]\n",
        "train_loader = [torch.utils.data.DataLoader(x, batch_size=batch_size, shuffle=True) for x in non_iid_train_split]\n",
        "testset = torchvision.datasets.CIFAR10(root='./data', train=False,\n",
        "                                       download=True, transform=transform)\n",
        "testloader = torch.utils.data.DataLoader(testset, batch_size=batch_size,\n",
        "                                         shuffle=True, num_workers=2)"
      ],
      "execution_count": 77,
      "outputs": [
        {
          "output_type": "stream",
          "text": [
            "Files already downloaded and verified\n"
          ],
          "name": "stdout"
        }
      ]
    },
    {
      "cell_type": "code",
      "metadata": {
        "colab": {
          "base_uri": "https://localhost:8080/",
          "height": 1000
        },
        "id": "QTU_dHGdM6Bq",
        "outputId": "7b719226-9ef5-4b23-d9db-48cb9952c799"
      },
      "source": [
        "Halt_FL(train_loader=train_loader,testloader=testloader,num_devices = 4,communication_rounds = 10,epoches = 1,alpha=0.80)"
      ],
      "execution_count": 78,
      "outputs": [
        {
          "output_type": "stream",
          "text": [
            "Set up devices for Halt- FL\n",
            "Starting Communication Round 0\n",
            "Transfer Global Model to devices\n",
            "Training each device\n"
          ],
          "name": "stdout"
        },
        {
          "output_type": "error",
          "ename": "TypeError",
          "evalue": "ignored",
          "traceback": [
            "\u001b[0;31m---------------------------------------------------------------------------\u001b[0m",
            "\u001b[0;31mTypeError\u001b[0m                                 Traceback (most recent call last)",
            "\u001b[0;32m<ipython-input-78-a6996822879a>\u001b[0m in \u001b[0;36m<module>\u001b[0;34m()\u001b[0m\n\u001b[0;32m----> 1\u001b[0;31m \u001b[0mHalt_FL\u001b[0m\u001b[0;34m(\u001b[0m\u001b[0mtrain_loader\u001b[0m\u001b[0;34m=\u001b[0m\u001b[0mtrain_loader\u001b[0m\u001b[0;34m,\u001b[0m\u001b[0mtestloader\u001b[0m\u001b[0;34m=\u001b[0m\u001b[0mtestloader\u001b[0m\u001b[0;34m,\u001b[0m\u001b[0mnum_devices\u001b[0m \u001b[0;34m=\u001b[0m \u001b[0;36m4\u001b[0m\u001b[0;34m,\u001b[0m\u001b[0mcommunication_rounds\u001b[0m \u001b[0;34m=\u001b[0m \u001b[0;36m10\u001b[0m\u001b[0;34m,\u001b[0m\u001b[0mepoches\u001b[0m \u001b[0;34m=\u001b[0m \u001b[0;36m1\u001b[0m\u001b[0;34m,\u001b[0m\u001b[0malpha\u001b[0m\u001b[0;34m=\u001b[0m\u001b[0;36m0.80\u001b[0m\u001b[0;34m)\u001b[0m\u001b[0;34m\u001b[0m\u001b[0;34m\u001b[0m\u001b[0m\n\u001b[0m",
            "\u001b[0;32m<ipython-input-69-7f4a0568d506>\u001b[0m in \u001b[0;36mHalt_FL\u001b[0;34m(train_loader, testloader, num_devices, communication_rounds, epoches, alpha)\u001b[0m\n\u001b[1;32m     25\u001b[0m     \u001b[0mdense_index\u001b[0m \u001b[0;34m=\u001b[0m \u001b[0;34m[\u001b[0m\u001b[0;34m]\u001b[0m\u001b[0;34m\u001b[0m\u001b[0;34m\u001b[0m\u001b[0m\n\u001b[1;32m     26\u001b[0m     \u001b[0;32mfor\u001b[0m \u001b[0mi\u001b[0m\u001b[0;34m,\u001b[0m\u001b[0mdevice\u001b[0m \u001b[0;32min\u001b[0m \u001b[0menumerate\u001b[0m\u001b[0;34m(\u001b[0m\u001b[0mdevices\u001b[0m\u001b[0;34m)\u001b[0m\u001b[0;34m:\u001b[0m\u001b[0;34m\u001b[0m\u001b[0;34m\u001b[0m\u001b[0m\n\u001b[0;32m---> 27\u001b[0;31m       \u001b[0mloss\u001b[0m \u001b[0;34m=\u001b[0m \u001b[0mtrain\u001b[0m\u001b[0;34m(\u001b[0m\u001b[0mdevice\u001b[0m\u001b[0;34m,\u001b[0m\u001b[0mtrain_loader\u001b[0m\u001b[0;34m[\u001b[0m\u001b[0mi\u001b[0m\u001b[0;34m]\u001b[0m\u001b[0;34m,\u001b[0m\u001b[0mepoches\u001b[0m\u001b[0;34m)\u001b[0m\u001b[0;34m\u001b[0m\u001b[0;34m\u001b[0m\u001b[0m\n\u001b[0m\u001b[1;32m     28\u001b[0m       \u001b[0mtest_l\u001b[0m\u001b[0;34m,\u001b[0m\u001b[0macc\u001b[0m \u001b[0;34m=\u001b[0m \u001b[0mtest\u001b[0m\u001b[0;34m(\u001b[0m\u001b[0mdevice\u001b[0m\u001b[0;34m,\u001b[0m\u001b[0mtrain_loader\u001b[0m\u001b[0;34m[\u001b[0m\u001b[0mi\u001b[0m\u001b[0;34m]\u001b[0m\u001b[0;34m)\u001b[0m\u001b[0;34m\u001b[0m\u001b[0;34m\u001b[0m\u001b[0m\n\u001b[1;32m     29\u001b[0m       \u001b[0;32mif\u001b[0m \u001b[0macc\u001b[0m \u001b[0;34m>\u001b[0m \u001b[0malpha\u001b[0m\u001b[0;34m:\u001b[0m\u001b[0;31m### need to check with alpha threshold\u001b[0m\u001b[0;34m\u001b[0m\u001b[0;34m\u001b[0m\u001b[0m\n",
            "\u001b[0;32m<ipython-input-4-8f74363f773a>\u001b[0m in \u001b[0;36mtrain\u001b[0;34m(model, dataloader, epochs)\u001b[0m\n\u001b[1;32m     40\u001b[0m   \u001b[0mrunning_loss\u001b[0m \u001b[0;34m=\u001b[0m \u001b[0;36m0.0\u001b[0m\u001b[0;34m\u001b[0m\u001b[0;34m\u001b[0m\u001b[0m\n\u001b[1;32m     41\u001b[0m   \u001b[0;32mfor\u001b[0m \u001b[0mepoch\u001b[0m \u001b[0;32min\u001b[0m \u001b[0mrange\u001b[0m\u001b[0;34m(\u001b[0m\u001b[0mepochs\u001b[0m\u001b[0;34m)\u001b[0m\u001b[0;34m:\u001b[0m\u001b[0;34m\u001b[0m\u001b[0;34m\u001b[0m\u001b[0m\n\u001b[0;32m---> 42\u001b[0;31m     \u001b[0;32mfor\u001b[0m \u001b[0mi\u001b[0m\u001b[0;34m,\u001b[0m\u001b[0mdata\u001b[0m \u001b[0;32min\u001b[0m \u001b[0menumerate\u001b[0m\u001b[0;34m(\u001b[0m\u001b[0mdataloader\u001b[0m\u001b[0;34m)\u001b[0m\u001b[0;34m:\u001b[0m\u001b[0;34m\u001b[0m\u001b[0;34m\u001b[0m\u001b[0m\n\u001b[0m\u001b[1;32m     43\u001b[0m       \u001b[0minputs\u001b[0m\u001b[0;34m,\u001b[0m\u001b[0mlabels\u001b[0m \u001b[0;34m=\u001b[0m \u001b[0mdata\u001b[0m\u001b[0;34m\u001b[0m\u001b[0;34m\u001b[0m\u001b[0m\n\u001b[1;32m     44\u001b[0m       \u001b[0mmodel\u001b[0m\u001b[0;34m.\u001b[0m\u001b[0moptimizer\u001b[0m\u001b[0;34m.\u001b[0m\u001b[0mzero_grad\u001b[0m\u001b[0;34m(\u001b[0m\u001b[0;34m)\u001b[0m\u001b[0;34m\u001b[0m\u001b[0;34m\u001b[0m\u001b[0m\n",
            "\u001b[0;32m/usr/local/lib/python3.7/dist-packages/torch/utils/data/dataloader.py\u001b[0m in \u001b[0;36m__next__\u001b[0;34m(self)\u001b[0m\n\u001b[1;32m    519\u001b[0m             \u001b[0;32mif\u001b[0m \u001b[0mself\u001b[0m\u001b[0;34m.\u001b[0m\u001b[0m_sampler_iter\u001b[0m \u001b[0;32mis\u001b[0m \u001b[0;32mNone\u001b[0m\u001b[0;34m:\u001b[0m\u001b[0;34m\u001b[0m\u001b[0;34m\u001b[0m\u001b[0m\n\u001b[1;32m    520\u001b[0m                 \u001b[0mself\u001b[0m\u001b[0;34m.\u001b[0m\u001b[0m_reset\u001b[0m\u001b[0;34m(\u001b[0m\u001b[0;34m)\u001b[0m\u001b[0;34m\u001b[0m\u001b[0;34m\u001b[0m\u001b[0m\n\u001b[0;32m--> 521\u001b[0;31m             \u001b[0mdata\u001b[0m \u001b[0;34m=\u001b[0m \u001b[0mself\u001b[0m\u001b[0;34m.\u001b[0m\u001b[0m_next_data\u001b[0m\u001b[0;34m(\u001b[0m\u001b[0;34m)\u001b[0m\u001b[0;34m\u001b[0m\u001b[0;34m\u001b[0m\u001b[0m\n\u001b[0m\u001b[1;32m    522\u001b[0m             \u001b[0mself\u001b[0m\u001b[0;34m.\u001b[0m\u001b[0m_num_yielded\u001b[0m \u001b[0;34m+=\u001b[0m \u001b[0;36m1\u001b[0m\u001b[0;34m\u001b[0m\u001b[0;34m\u001b[0m\u001b[0m\n\u001b[1;32m    523\u001b[0m             \u001b[0;32mif\u001b[0m \u001b[0mself\u001b[0m\u001b[0;34m.\u001b[0m\u001b[0m_dataset_kind\u001b[0m \u001b[0;34m==\u001b[0m \u001b[0m_DatasetKind\u001b[0m\u001b[0;34m.\u001b[0m\u001b[0mIterable\u001b[0m \u001b[0;32mand\u001b[0m\u001b[0;31m \u001b[0m\u001b[0;31m\\\u001b[0m\u001b[0;34m\u001b[0m\u001b[0;34m\u001b[0m\u001b[0m\n",
            "\u001b[0;32m/usr/local/lib/python3.7/dist-packages/torch/utils/data/dataloader.py\u001b[0m in \u001b[0;36m_next_data\u001b[0;34m(self)\u001b[0m\n\u001b[1;32m    559\u001b[0m     \u001b[0;32mdef\u001b[0m \u001b[0m_next_data\u001b[0m\u001b[0;34m(\u001b[0m\u001b[0mself\u001b[0m\u001b[0;34m)\u001b[0m\u001b[0;34m:\u001b[0m\u001b[0;34m\u001b[0m\u001b[0;34m\u001b[0m\u001b[0m\n\u001b[1;32m    560\u001b[0m         \u001b[0mindex\u001b[0m \u001b[0;34m=\u001b[0m \u001b[0mself\u001b[0m\u001b[0;34m.\u001b[0m\u001b[0m_next_index\u001b[0m\u001b[0;34m(\u001b[0m\u001b[0;34m)\u001b[0m  \u001b[0;31m# may raise StopIteration\u001b[0m\u001b[0;34m\u001b[0m\u001b[0;34m\u001b[0m\u001b[0m\n\u001b[0;32m--> 561\u001b[0;31m         \u001b[0mdata\u001b[0m \u001b[0;34m=\u001b[0m \u001b[0mself\u001b[0m\u001b[0;34m.\u001b[0m\u001b[0m_dataset_fetcher\u001b[0m\u001b[0;34m.\u001b[0m\u001b[0mfetch\u001b[0m\u001b[0;34m(\u001b[0m\u001b[0mindex\u001b[0m\u001b[0;34m)\u001b[0m  \u001b[0;31m# may raise StopIteration\u001b[0m\u001b[0;34m\u001b[0m\u001b[0;34m\u001b[0m\u001b[0m\n\u001b[0m\u001b[1;32m    562\u001b[0m         \u001b[0;32mif\u001b[0m \u001b[0mself\u001b[0m\u001b[0;34m.\u001b[0m\u001b[0m_pin_memory\u001b[0m\u001b[0;34m:\u001b[0m\u001b[0;34m\u001b[0m\u001b[0;34m\u001b[0m\u001b[0m\n\u001b[1;32m    563\u001b[0m             \u001b[0mdata\u001b[0m \u001b[0;34m=\u001b[0m \u001b[0m_utils\u001b[0m\u001b[0;34m.\u001b[0m\u001b[0mpin_memory\u001b[0m\u001b[0;34m.\u001b[0m\u001b[0mpin_memory\u001b[0m\u001b[0;34m(\u001b[0m\u001b[0mdata\u001b[0m\u001b[0;34m)\u001b[0m\u001b[0;34m\u001b[0m\u001b[0;34m\u001b[0m\u001b[0m\n",
            "\u001b[0;32m/usr/local/lib/python3.7/dist-packages/torch/utils/data/_utils/fetch.py\u001b[0m in \u001b[0;36mfetch\u001b[0;34m(self, possibly_batched_index)\u001b[0m\n\u001b[1;32m     42\u001b[0m     \u001b[0;32mdef\u001b[0m \u001b[0mfetch\u001b[0m\u001b[0;34m(\u001b[0m\u001b[0mself\u001b[0m\u001b[0;34m,\u001b[0m \u001b[0mpossibly_batched_index\u001b[0m\u001b[0;34m)\u001b[0m\u001b[0;34m:\u001b[0m\u001b[0;34m\u001b[0m\u001b[0;34m\u001b[0m\u001b[0m\n\u001b[1;32m     43\u001b[0m         \u001b[0;32mif\u001b[0m \u001b[0mself\u001b[0m\u001b[0;34m.\u001b[0m\u001b[0mauto_collation\u001b[0m\u001b[0;34m:\u001b[0m\u001b[0;34m\u001b[0m\u001b[0;34m\u001b[0m\u001b[0m\n\u001b[0;32m---> 44\u001b[0;31m             \u001b[0mdata\u001b[0m \u001b[0;34m=\u001b[0m \u001b[0;34m[\u001b[0m\u001b[0mself\u001b[0m\u001b[0;34m.\u001b[0m\u001b[0mdataset\u001b[0m\u001b[0;34m[\u001b[0m\u001b[0midx\u001b[0m\u001b[0;34m]\u001b[0m \u001b[0;32mfor\u001b[0m \u001b[0midx\u001b[0m \u001b[0;32min\u001b[0m \u001b[0mpossibly_batched_index\u001b[0m\u001b[0;34m]\u001b[0m\u001b[0;34m\u001b[0m\u001b[0;34m\u001b[0m\u001b[0m\n\u001b[0m\u001b[1;32m     45\u001b[0m         \u001b[0;32melse\u001b[0m\u001b[0;34m:\u001b[0m\u001b[0;34m\u001b[0m\u001b[0;34m\u001b[0m\u001b[0m\n\u001b[1;32m     46\u001b[0m             \u001b[0mdata\u001b[0m \u001b[0;34m=\u001b[0m \u001b[0mself\u001b[0m\u001b[0;34m.\u001b[0m\u001b[0mdataset\u001b[0m\u001b[0;34m[\u001b[0m\u001b[0mpossibly_batched_index\u001b[0m\u001b[0;34m]\u001b[0m\u001b[0;34m\u001b[0m\u001b[0;34m\u001b[0m\u001b[0m\n",
            "\u001b[0;32m/usr/local/lib/python3.7/dist-packages/torch/utils/data/_utils/fetch.py\u001b[0m in \u001b[0;36m<listcomp>\u001b[0;34m(.0)\u001b[0m\n\u001b[1;32m     42\u001b[0m     \u001b[0;32mdef\u001b[0m \u001b[0mfetch\u001b[0m\u001b[0;34m(\u001b[0m\u001b[0mself\u001b[0m\u001b[0;34m,\u001b[0m \u001b[0mpossibly_batched_index\u001b[0m\u001b[0;34m)\u001b[0m\u001b[0;34m:\u001b[0m\u001b[0;34m\u001b[0m\u001b[0;34m\u001b[0m\u001b[0m\n\u001b[1;32m     43\u001b[0m         \u001b[0;32mif\u001b[0m \u001b[0mself\u001b[0m\u001b[0;34m.\u001b[0m\u001b[0mauto_collation\u001b[0m\u001b[0;34m:\u001b[0m\u001b[0;34m\u001b[0m\u001b[0;34m\u001b[0m\u001b[0m\n\u001b[0;32m---> 44\u001b[0;31m             \u001b[0mdata\u001b[0m \u001b[0;34m=\u001b[0m \u001b[0;34m[\u001b[0m\u001b[0mself\u001b[0m\u001b[0;34m.\u001b[0m\u001b[0mdataset\u001b[0m\u001b[0;34m[\u001b[0m\u001b[0midx\u001b[0m\u001b[0;34m]\u001b[0m \u001b[0;32mfor\u001b[0m \u001b[0midx\u001b[0m \u001b[0;32min\u001b[0m \u001b[0mpossibly_batched_index\u001b[0m\u001b[0;34m]\u001b[0m\u001b[0;34m\u001b[0m\u001b[0;34m\u001b[0m\u001b[0m\n\u001b[0m\u001b[1;32m     45\u001b[0m         \u001b[0;32melse\u001b[0m\u001b[0;34m:\u001b[0m\u001b[0;34m\u001b[0m\u001b[0;34m\u001b[0m\u001b[0m\n\u001b[1;32m     46\u001b[0m             \u001b[0mdata\u001b[0m \u001b[0;34m=\u001b[0m \u001b[0mself\u001b[0m\u001b[0;34m.\u001b[0m\u001b[0mdataset\u001b[0m\u001b[0;34m[\u001b[0m\u001b[0mpossibly_batched_index\u001b[0m\u001b[0;34m]\u001b[0m\u001b[0;34m\u001b[0m\u001b[0;34m\u001b[0m\u001b[0m\n",
            "\u001b[0;32m<ipython-input-76-66d2f0c43e88>\u001b[0m in \u001b[0;36m__getitem__\u001b[0;34m(self, idx)\u001b[0m\n\u001b[1;32m     16\u001b[0m         \u001b[0msample\u001b[0m \u001b[0;34m=\u001b[0m \u001b[0;34m{\u001b[0m\u001b[0;34m'image'\u001b[0m\u001b[0;34m:\u001b[0m \u001b[0mimg\u001b[0m\u001b[0;34m,\u001b[0m \u001b[0;34m'landmarks'\u001b[0m\u001b[0;34m:\u001b[0m \u001b[0mlabel\u001b[0m\u001b[0;34m}\u001b[0m\u001b[0;34m\u001b[0m\u001b[0;34m\u001b[0m\u001b[0m\n\u001b[1;32m     17\u001b[0m         \u001b[0;32mif\u001b[0m \u001b[0mself\u001b[0m\u001b[0;34m.\u001b[0m\u001b[0mtransform\u001b[0m\u001b[0;34m:\u001b[0m\u001b[0;34m\u001b[0m\u001b[0;34m\u001b[0m\u001b[0m\n\u001b[0;32m---> 18\u001b[0;31m           \u001b[0msample\u001b[0m \u001b[0;34m=\u001b[0m \u001b[0mself\u001b[0m\u001b[0;34m.\u001b[0m\u001b[0mtransform\u001b[0m\u001b[0;34m(\u001b[0m\u001b[0msample\u001b[0m\u001b[0;34m)\u001b[0m\u001b[0;34m\u001b[0m\u001b[0;34m\u001b[0m\u001b[0m\n\u001b[0m\u001b[1;32m     19\u001b[0m   \u001b[0;32mdef\u001b[0m \u001b[0m__iter__\u001b[0m\u001b[0;34m(\u001b[0m\u001b[0mself\u001b[0m\u001b[0;34m)\u001b[0m\u001b[0;34m:\u001b[0m\u001b[0;34m\u001b[0m\u001b[0;34m\u001b[0m\u001b[0m\n\u001b[1;32m     20\u001b[0m     \u001b[0;32mreturn\u001b[0m \u001b[0mnon_iid_iteratorClass\u001b[0m\u001b[0;34m(\u001b[0m\u001b[0mself\u001b[0m\u001b[0;34m)\u001b[0m\u001b[0;34m\u001b[0m\u001b[0;34m\u001b[0m\u001b[0m\n",
            "\u001b[0;32m/usr/local/lib/python3.7/dist-packages/torchvision/transforms/transforms.py\u001b[0m in \u001b[0;36m__call__\u001b[0;34m(self, img)\u001b[0m\n\u001b[1;32m     58\u001b[0m     \u001b[0;32mdef\u001b[0m \u001b[0m__call__\u001b[0m\u001b[0;34m(\u001b[0m\u001b[0mself\u001b[0m\u001b[0;34m,\u001b[0m \u001b[0mimg\u001b[0m\u001b[0;34m)\u001b[0m\u001b[0;34m:\u001b[0m\u001b[0;34m\u001b[0m\u001b[0;34m\u001b[0m\u001b[0m\n\u001b[1;32m     59\u001b[0m         \u001b[0;32mfor\u001b[0m \u001b[0mt\u001b[0m \u001b[0;32min\u001b[0m \u001b[0mself\u001b[0m\u001b[0;34m.\u001b[0m\u001b[0mtransforms\u001b[0m\u001b[0;34m:\u001b[0m\u001b[0;34m\u001b[0m\u001b[0;34m\u001b[0m\u001b[0m\n\u001b[0;32m---> 60\u001b[0;31m             \u001b[0mimg\u001b[0m \u001b[0;34m=\u001b[0m \u001b[0mt\u001b[0m\u001b[0;34m(\u001b[0m\u001b[0mimg\u001b[0m\u001b[0;34m)\u001b[0m\u001b[0;34m\u001b[0m\u001b[0;34m\u001b[0m\u001b[0m\n\u001b[0m\u001b[1;32m     61\u001b[0m         \u001b[0;32mreturn\u001b[0m \u001b[0mimg\u001b[0m\u001b[0;34m\u001b[0m\u001b[0;34m\u001b[0m\u001b[0m\n\u001b[1;32m     62\u001b[0m \u001b[0;34m\u001b[0m\u001b[0m\n",
            "\u001b[0;32m/usr/local/lib/python3.7/dist-packages/torchvision/transforms/transforms.py\u001b[0m in \u001b[0;36m__call__\u001b[0;34m(self, pic)\u001b[0m\n\u001b[1;32m     95\u001b[0m             \u001b[0mTensor\u001b[0m\u001b[0;34m:\u001b[0m \u001b[0mConverted\u001b[0m \u001b[0mimage\u001b[0m\u001b[0;34m.\u001b[0m\u001b[0;34m\u001b[0m\u001b[0;34m\u001b[0m\u001b[0m\n\u001b[1;32m     96\u001b[0m         \"\"\"\n\u001b[0;32m---> 97\u001b[0;31m         \u001b[0;32mreturn\u001b[0m \u001b[0mF\u001b[0m\u001b[0;34m.\u001b[0m\u001b[0mto_tensor\u001b[0m\u001b[0;34m(\u001b[0m\u001b[0mpic\u001b[0m\u001b[0;34m)\u001b[0m\u001b[0;34m\u001b[0m\u001b[0;34m\u001b[0m\u001b[0m\n\u001b[0m\u001b[1;32m     98\u001b[0m \u001b[0;34m\u001b[0m\u001b[0m\n\u001b[1;32m     99\u001b[0m     \u001b[0;32mdef\u001b[0m \u001b[0m__repr__\u001b[0m\u001b[0;34m(\u001b[0m\u001b[0mself\u001b[0m\u001b[0;34m)\u001b[0m\u001b[0;34m:\u001b[0m\u001b[0;34m\u001b[0m\u001b[0;34m\u001b[0m\u001b[0m\n",
            "\u001b[0;32m/usr/local/lib/python3.7/dist-packages/torchvision/transforms/functional.py\u001b[0m in \u001b[0;36mto_tensor\u001b[0;34m(pic)\u001b[0m\n\u001b[1;32m    100\u001b[0m     \"\"\"\n\u001b[1;32m    101\u001b[0m     \u001b[0;32mif\u001b[0m \u001b[0;32mnot\u001b[0m\u001b[0;34m(\u001b[0m\u001b[0mF_pil\u001b[0m\u001b[0;34m.\u001b[0m\u001b[0m_is_pil_image\u001b[0m\u001b[0;34m(\u001b[0m\u001b[0mpic\u001b[0m\u001b[0;34m)\u001b[0m \u001b[0;32mor\u001b[0m \u001b[0m_is_numpy\u001b[0m\u001b[0;34m(\u001b[0m\u001b[0mpic\u001b[0m\u001b[0;34m)\u001b[0m\u001b[0;34m)\u001b[0m\u001b[0;34m:\u001b[0m\u001b[0;34m\u001b[0m\u001b[0;34m\u001b[0m\u001b[0m\n\u001b[0;32m--> 102\u001b[0;31m         \u001b[0;32mraise\u001b[0m \u001b[0mTypeError\u001b[0m\u001b[0;34m(\u001b[0m\u001b[0;34m'pic should be PIL Image or ndarray. Got {}'\u001b[0m\u001b[0;34m.\u001b[0m\u001b[0mformat\u001b[0m\u001b[0;34m(\u001b[0m\u001b[0mtype\u001b[0m\u001b[0;34m(\u001b[0m\u001b[0mpic\u001b[0m\u001b[0;34m)\u001b[0m\u001b[0;34m)\u001b[0m\u001b[0;34m)\u001b[0m\u001b[0;34m\u001b[0m\u001b[0;34m\u001b[0m\u001b[0m\n\u001b[0m\u001b[1;32m    103\u001b[0m \u001b[0;34m\u001b[0m\u001b[0m\n\u001b[1;32m    104\u001b[0m     \u001b[0;32mif\u001b[0m \u001b[0m_is_numpy\u001b[0m\u001b[0;34m(\u001b[0m\u001b[0mpic\u001b[0m\u001b[0;34m)\u001b[0m \u001b[0;32mand\u001b[0m \u001b[0;32mnot\u001b[0m \u001b[0m_is_numpy_image\u001b[0m\u001b[0;34m(\u001b[0m\u001b[0mpic\u001b[0m\u001b[0;34m)\u001b[0m\u001b[0;34m:\u001b[0m\u001b[0;34m\u001b[0m\u001b[0;34m\u001b[0m\u001b[0m\n",
            "\u001b[0;31mTypeError\u001b[0m: pic should be PIL Image or ndarray. Got <class 'dict'>"
          ]
        }
      ]
    },
    {
      "cell_type": "markdown",
      "metadata": {
        "id": "soiO1VyB8Sid"
      },
      "source": [
        "# Debug"
      ]
    },
    {
      "cell_type": "code",
      "metadata": {
        "colab": {
          "base_uri": "https://localhost:8080/"
        },
        "id": "4g91T3zcDer-",
        "outputId": "8ead7aad-93b8-44da-a904-2b167d6801e3"
      },
      "source": [
        "# to continue training: old needs to be changined for iid data: june 11th\n",
        "for i in range(3,10):\n",
        "  print(\"Starting Communication Round %d\"%(i))\n",
        "  print(\"Transfer Global Model to devices\")\n",
        "  for device in devices:\n",
        "    device.setConvWeights(server)\n",
        "    device.setDenseWeights(server)\n",
        "\n",
        "  print(\"Training each device\")\n",
        "  for i,device in enumerate(devices):\n",
        "    accuracy = device.train(trainloader,epoches)\n",
        "    results_dict[\"Device \"+str(i)].append(accuracy)\n",
        "    print(\"Device %d has accuracy %f\"%(i,accuracy))\n",
        "  \n",
        "  print(\"Aggregate device models to server\")\n",
        "  global_conv = []\n",
        "  global_dense = []\n",
        "  for device in devices:\n",
        "    global_conv.append(device.getConvWeights())\n",
        "    global_dense.append(device.getDenseWeights())\n",
        "  x = global_conv[0]\n",
        "  y = global_dense[0]\n",
        "  for idx in range(1,num_devices,1):#from index 1 to the end\n",
        "    x = list(map(add,x,global_conv[idx]))\n",
        "    y = list(map(add,y,global_dense[idx]))\n",
        "  x = [torch.div(conv,num_devices) for conv in x]\n",
        "  y = [torch.div(dense,num_devices) for dense in y]\n",
        "  server.set_weights(x,y)\n",
        "  accuracy = server.train(trainloader,epoches)\n",
        "  results_dict[\"Server\"].append(accuracy)\n",
        "print(\"Results Dict\")\n",
        "print(results_dict)"
      ],
      "execution_count": null,
      "outputs": [
        {
          "output_type": "stream",
          "text": [
            "Starting Communication Round 3\n",
            "Transfer Global Model to devices\n",
            "Training each device\n"
          ],
          "name": "stdout"
        },
        {
          "output_type": "stream",
          "text": [
            "/usr/local/lib/python3.7/dist-packages/ipykernel_launcher.py:59: UserWarning: To copy construct from a tensor, it is recommended to use sourceTensor.clone().detach() or sourceTensor.clone().detach().requires_grad_(True), rather than tensor.new_tensor(sourceTensor).\n",
            "/usr/local/lib/python3.7/dist-packages/ipykernel_launcher.py:60: UserWarning: To copy construct from a tensor, it is recommended to use sourceTensor.clone().detach() or sourceTensor.clone().detach().requires_grad_(True), rather than tensor.new_tensor(sourceTensor).\n",
            "/usr/local/lib/python3.7/dist-packages/ipykernel_launcher.py:61: UserWarning: To copy construct from a tensor, it is recommended to use sourceTensor.clone().detach() or sourceTensor.clone().detach().requires_grad_(True), rather than tensor.new_tensor(sourceTensor).\n",
            "/usr/local/lib/python3.7/dist-packages/ipykernel_launcher.py:62: UserWarning: To copy construct from a tensor, it is recommended to use sourceTensor.clone().detach() or sourceTensor.clone().detach().requires_grad_(True), rather than tensor.new_tensor(sourceTensor).\n",
            "/usr/local/lib/python3.7/dist-packages/ipykernel_launcher.py:63: UserWarning: To copy construct from a tensor, it is recommended to use sourceTensor.clone().detach() or sourceTensor.clone().detach().requires_grad_(True), rather than tensor.new_tensor(sourceTensor).\n",
            "/usr/local/lib/python3.7/dist-packages/ipykernel_launcher.py:64: UserWarning: To copy construct from a tensor, it is recommended to use sourceTensor.clone().detach() or sourceTensor.clone().detach().requires_grad_(True), rather than tensor.new_tensor(sourceTensor).\n",
            "/usr/local/lib/python3.7/dist-packages/ipykernel_launcher.py:66: UserWarning: To copy construct from a tensor, it is recommended to use sourceTensor.clone().detach() or sourceTensor.clone().detach().requires_grad_(True), rather than tensor.new_tensor(sourceTensor).\n",
            "/usr/local/lib/python3.7/dist-packages/ipykernel_launcher.py:67: UserWarning: To copy construct from a tensor, it is recommended to use sourceTensor.clone().detach() or sourceTensor.clone().detach().requires_grad_(True), rather than tensor.new_tensor(sourceTensor).\n",
            "/usr/local/lib/python3.7/dist-packages/torch/nn/modules/container.py:119: UserWarning: Implicit dimension choice for softmax has been deprecated. Change the call to include dim=X as an argument.\n",
            "  input = module(input)\n"
          ],
          "name": "stderr"
        },
        {
          "output_type": "stream",
          "text": [
            "Device 0 has accuracy 0.101000\n",
            "Device 1 has accuracy 0.100000\n",
            "Device 2 has accuracy 0.100000\n",
            "Device 3 has accuracy 0.100000\n",
            "Aggregate device models to server\n"
          ],
          "name": "stdout"
        },
        {
          "output_type": "stream",
          "text": [
            "/usr/local/lib/python3.7/dist-packages/ipykernel_launcher.py:70: UserWarning: To copy construct from a tensor, it is recommended to use sourceTensor.clone().detach() or sourceTensor.clone().detach().requires_grad_(True), rather than tensor.new_tensor(sourceTensor).\n",
            "/usr/local/lib/python3.7/dist-packages/ipykernel_launcher.py:71: UserWarning: To copy construct from a tensor, it is recommended to use sourceTensor.clone().detach() or sourceTensor.clone().detach().requires_grad_(True), rather than tensor.new_tensor(sourceTensor).\n",
            "/usr/local/lib/python3.7/dist-packages/ipykernel_launcher.py:72: UserWarning: To copy construct from a tensor, it is recommended to use sourceTensor.clone().detach() or sourceTensor.clone().detach().requires_grad_(True), rather than tensor.new_tensor(sourceTensor).\n",
            "/usr/local/lib/python3.7/dist-packages/ipykernel_launcher.py:73: UserWarning: To copy construct from a tensor, it is recommended to use sourceTensor.clone().detach() or sourceTensor.clone().detach().requires_grad_(True), rather than tensor.new_tensor(sourceTensor).\n",
            "/usr/local/lib/python3.7/dist-packages/ipykernel_launcher.py:74: UserWarning: To copy construct from a tensor, it is recommended to use sourceTensor.clone().detach() or sourceTensor.clone().detach().requires_grad_(True), rather than tensor.new_tensor(sourceTensor).\n",
            "/usr/local/lib/python3.7/dist-packages/ipykernel_launcher.py:75: UserWarning: To copy construct from a tensor, it is recommended to use sourceTensor.clone().detach() or sourceTensor.clone().detach().requires_grad_(True), rather than tensor.new_tensor(sourceTensor).\n",
            "/usr/local/lib/python3.7/dist-packages/ipykernel_launcher.py:76: UserWarning: To copy construct from a tensor, it is recommended to use sourceTensor.clone().detach() or sourceTensor.clone().detach().requires_grad_(True), rather than tensor.new_tensor(sourceTensor).\n",
            "/usr/local/lib/python3.7/dist-packages/ipykernel_launcher.py:77: UserWarning: To copy construct from a tensor, it is recommended to use sourceTensor.clone().detach() or sourceTensor.clone().detach().requires_grad_(True), rather than tensor.new_tensor(sourceTensor).\n"
          ],
          "name": "stderr"
        },
        {
          "output_type": "stream",
          "text": [
            "Starting Communication Round 4\n",
            "Transfer Global Model to devices\n",
            "Training each device\n",
            "Device 0 has accuracy 0.285720\n",
            "Device 1 has accuracy 0.100000\n",
            "Device 2 has accuracy 0.100000\n",
            "Device 3 has accuracy 0.170760\n",
            "Aggregate device models to server\n",
            "Starting Communication Round 5\n",
            "Transfer Global Model to devices\n",
            "Training each device\n",
            "Device 0 has accuracy 0.340680\n",
            "Device 1 has accuracy 0.232540\n",
            "Device 2 has accuracy 0.100060\n",
            "Device 3 has accuracy 0.321460\n",
            "Aggregate device models to server\n",
            "Starting Communication Round 6\n",
            "Transfer Global Model to devices\n",
            "Training each device\n",
            "Device 0 has accuracy 0.374020\n",
            "Device 1 has accuracy 0.306640\n",
            "Device 2 has accuracy 0.234840\n"
          ],
          "name": "stdout"
        }
      ]
    },
    {
      "cell_type": "code",
      "metadata": {
        "id": "_C9dBBPerTtd"
      },
      "source": [
        "print(\"Results Dict\")\n",
        "print(results_dict)"
      ],
      "execution_count": null,
      "outputs": []
    },
    {
      "cell_type": "code",
      "metadata": {
        "id": "ApDadrQt1_gd"
      },
      "source": [
        "# check aggregation\n",
        "global_conv = []\n",
        "global_dense = []\n",
        "for device in devices:\n",
        "  global_conv.append(device.getConvWeights())\n",
        "  global_dense.append(device.getDenseWeights())\n",
        "#print(global_conv)\n",
        "x = global_conv[0]\n",
        "y = global_dense[0]\n",
        "#print(x[0][0])\n",
        "for idx in range(1,num_devices,1):\n",
        "  print(idx)\n",
        "  x = list(map(add,x,global_conv[idx]))\n",
        "  y = list(map(add,y,global_dense[idx]))\n",
        "print(x[0][0])\n",
        "adi = input(\"continue\")\n",
        "x = [torch.div(conv,num_devices) for conv in x]\n",
        "y = [torch.div(dense,num_devices) for dense in y]\n",
        "print(x[0][0])\n",
        "# it works"
      ],
      "execution_count": null,
      "outputs": []
    },
    {
      "cell_type": "code",
      "metadata": {
        "id": "qmH6L60d3GCB"
      },
      "source": [
        "print(global_conv[0][0][0])\n",
        "print(global_conv[1][0][0])\n",
        "print(global_conv[2][0][0])"
      ],
      "execution_count": null,
      "outputs": []
    },
    {
      "cell_type": "code",
      "metadata": {
        "id": "A4UV8Oq-4yFX"
      },
      "source": [
        "len(global_conv)\n",
        "print(range(2,num_devices,1))\n"
      ],
      "execution_count": null,
      "outputs": []
    },
    {
      "cell_type": "code",
      "metadata": {
        "id": "PlJ0x9JIzJRv"
      },
      "source": [
        "server.train(trainloader,epoches)"
      ],
      "execution_count": null,
      "outputs": []
    },
    {
      "cell_type": "code",
      "metadata": {
        "id": "9f6Thc7ezDOn"
      },
      "source": [
        "a = torch.randn(4, 4)\n",
        "b = torch.randn(4, 4)\n",
        "torch.mean(Tensor(a,b))"
      ],
      "execution_count": null,
      "outputs": []
    },
    {
      "cell_type": "code",
      "metadata": {
        "id": "MEBXnL0mWLc_"
      },
      "source": [
        ""
      ],
      "execution_count": null,
      "outputs": []
    }
  ]
}