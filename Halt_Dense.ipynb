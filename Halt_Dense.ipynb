{
  "nbformat": 4,
  "nbformat_minor": 0,
  "metadata": {
    "colab": {
      "name": "Halt_Dense.ipynb",
      "provenance": [],
      "collapsed_sections": [],
      "authorship_tag": "ABX9TyOwIAKQSemLkuNM57kN3NKT"
    },
    "kernelspec": {
      "name": "python3",
      "display_name": "Python 3"
    },
    "language_info": {
      "name": "python"
    }
  },
  "cells": [
    {
      "cell_type": "code",
      "metadata": {
        "id": "DdvOtjl90nFu"
      },
      "source": [
        "import torch #Pytorch used for Model creation\n",
        "import torchvision\n",
        "from torchvision import datasets, transforms # 'datasets' gives us MNIST, 'transforms' allows use to turn images into tensors\n",
        "import matplotlib.pyplot as plt #To View Images\n",
        "import torch.nn as nn #To set up the model\n",
        "import torch.nn.functional as F #To calculate loss, use different activations etc.\n",
        "import torch.optim as optim #To access the adam optimizer\n",
        "import pandas as pd\n",
        "import numpy as np\n",
        "import matplotlib.pyplot as plt\n",
        "import random\n",
        "import csv\n",
        "import torch.optim as optim\n",
        "from operator import add,truediv"
      ],
      "execution_count": null,
      "outputs": []
    },
    {
      "cell_type": "markdown",
      "metadata": {
        "id": "VT5mLiDM034L"
      },
      "source": [
        "# Halt Dense Simulation\n",
        "during each model update <br>\n",
        "if accuracy > threshold:<br>\n",
        "> share convolutional and dense layers\n",
        "<br>else:<br>\n",
        "> share convolutional layers only\n",
        "\n",
        "## Classes needed\n",
        "\n"
      ]
    },
    {
      "cell_type": "code",
      "metadata": {
        "id": "LdrGCbww1V_N"
      },
      "source": [
        "# Super-class model\n",
        "'''\n",
        "https://machinelearningmastery.com/how-to-develop-a-cnn-from-scratch-for-cifar-10-photo-classification/\n",
        "using VGG 3 which has 73% accuracy on Cifar-10\n",
        "model.add(Conv2D(32, (3, 3), activation='relu', kernel_initializer='he_uniform', padding='same', input_shape=(32, 32, 3)))\n",
        "\tmodel.add(Conv2D(32, (3, 3), activation='relu', kernel_initializer='he_uniform', padding='same'))\n",
        "\tmodel.add(MaxPooling2D((2, 2)))\n",
        "\tmodel.add(Conv2D(64, (3, 3), activation='relu', kernel_initializer='he_uniform', padding='same'))\n",
        "\tmodel.add(Conv2D(64, (3, 3), activation='relu', kernel_initializer='he_uniform', padding='same'))\n",
        "\tmodel.add(MaxPooling2D((2, 2)))\n",
        "\tmodel.add(Conv2D(128, (3, 3), activation='relu', kernel_initializer='he_uniform', padding='same'))\n",
        "\tmodel.add(Conv2D(128, (3, 3), activation='relu', kernel_initializer='he_uniform', padding='same'))\n",
        "\tmodel.add(MaxPooling2D((2, 2)))\n",
        "\tmodel.add(Flatten())\n",
        "\tmodel.add(Dense(128, activation='relu', kernel_initializer='he_uniform'))\n",
        "\tmodel.add(Dense(10, activation='softmax'))\n",
        "\t# compile model\n",
        "\topt = SGD(lr=0.001, momentum=0.9)\n",
        "'''\n",
        "# Now use setup from FedMax\n",
        "Allen_Net = {'Conv': [32,'M',64,64,'M',64,64,'M'],\n",
        "             'MLP': [(1024,512),'ReLU',(512,10)]} # 'MLP' for user-readability, not used to generate dense layers\n",
        "\n",
        "class Model(nn.Module):\n",
        "  def __init__(self,net_setup):\n",
        "    super().__init__()\n",
        "    self.ConvLayers = self._make_conv(net_setup['Conv'])\n",
        "    self.MLP = nn.Sequential(nn.Linear(1024,512),nn.ReLU(True),nn.Linear(512,10))\n",
        "\n",
        "    self.Conv1 = nn.Conv2d(3,32,(3,3))\n",
        "    self.Conv2 = nn.Conv2d(32,32,(3,3))\n",
        "    self.maxpool1 = nn.MaxPool2d((2,2))\n",
        "    self.Conv3 = nn.Conv2d(32,64,(3,3))\n",
        "    self.Conv4 = nn.Conv2d(64,64,(3,3))\n",
        "    self.maxpool2 = nn.MaxPool2d((2,2))\n",
        "    self.Conv5 = nn.Conv2d(64,128,(3,3))\n",
        "    self.Conv6 = nn.Conv2d(128,128,(3,3))\n",
        "    #self.maxpool3 = nn.MaxPool2d((2,2)) No \"same\" padding in torch, so size decreases\n",
        "    self.flat = nn.Flatten()\n",
        "    self.fc1 = nn.Linear(128,128)\n",
        "    self.fc2 = nn.Linear(128,10)\n",
        "    self.model = nn.Sequential(self.Conv1,nn.ReLU(),\n",
        "                               self.Conv2,nn.ReLU(),\n",
        "                               self.maxpool1,\n",
        "                               self.Conv3,nn.ReLU(),\n",
        "                               self.Conv4,nn.ReLU(),\n",
        "                               self.maxpool2,\n",
        "                               self.Conv5,nn.ReLU(),\n",
        "                               self.Conv6,nn.ReLU(),\n",
        "                               self.flat,\n",
        "                               self.fc1,nn.ReLU(),\n",
        "                               self.fc2,nn.Softmax())\n",
        "    self.criterion = nn.CrossEntropyLoss()\n",
        "    self.optimizer = optim.SGD(self.model.parameters(), lr=0.001, momentum=0.9)\n",
        "  def _make_conv(self,layer_list):\n",
        "    layer = [] # add layers based on layer_list\n",
        "    in_channel = 3 # starting in_channel\n",
        "    for x in layer_list:\n",
        "      if x == 'M':# Add maxpool2d\n",
        "        layer += [nn.MaxPool2d(kernel = 2,stride = 2)]\n",
        "      else: # add conv layer\n",
        "        layer += [nn.Conv2d(in_channel,x,kernel_size = 3,padding=1)],\n",
        "                  nn.BatchNorm2d(x),\n",
        "                  ReLU(inplace=True)]\n",
        "        in_channel = x # set new channel size\n",
        "      return nn.Sequential(*layer) # make layers into sequential object\n",
        "\n",
        "  def forward(self,x):\n",
        "    out1 = self.ConvLayers(x) # conv\n",
        "    out2 = out1.view(out1.size(0),-1) # flatten\n",
        "    out3 = self.MLP(out2) # mlp\n",
        "    return F.log_softmax(out3,dim=1) # log softmax activation \n",
        "    #print(\"Adi\")\n",
        "    #return # self.model(x)\n",
        "  def getConvWeights(self):\n",
        "    ConvList = []\n",
        "    for layer in self.ConvLayers:\n",
        "      if isinstance(layer,nn.Conv2d):\n",
        "        ConvList.append(layer.weight)\n",
        "    #ConvList = [self.Conv1.weight,self.Conv2.weight,self.Conv3.weight,self.Conv4.weight,self.Conv5.weight,self.Conv6.weight]\n",
        "    #print(self.Conv1.weight.size())\n",
        "    return ConvList\n",
        "  def getDenseWeights(self):\n",
        "    DenseList = []\n",
        "    for layer in self.MLP:\n",
        "      if isinstance(layer,nn.Linear):\n",
        "        DenseList.append(layer.weight)\n",
        "    #DenseList = [self.fc1.weight,self.fc2.weight]\n",
        "    return DenseList\n",
        "  def setConvWeights(self,server):\n",
        "    self.Conv1.weight.new_tensor(server.Conv1.weight)\n",
        "    self.Conv2.weight.new_tensor(server.Conv2.weight)\n",
        "    self.Conv3.weight.new_tensor(server.Conv3.weight)\n",
        "    self.Conv4.weight.new_tensor(server.Conv4.weight)\n",
        "    self.Conv5.weight.new_tensor(server.Conv5.weight)\n",
        "    self.Conv6.weight.new_tensor(server.Conv6.weight)\n",
        "  def setDenseWeights(self,server):\n",
        "    self.fc1.weight.new_tensor(server.fc1.weight)\n",
        "    self.fc2.weight.new_tensor(server.fc2.weight) \n",
        "\n",
        "  def set_weights(self,conv_list,dense_list):\n",
        "    self.Conv1.weight.new_tensor(conv_list[0])\n",
        "    self.Conv2.weight.new_tensor(conv_list[1])\n",
        "    self.Conv3.weight.new_tensor(conv_list[2])\n",
        "    self.Conv4.weight.new_tensor(conv_list[3])\n",
        "    self.Conv5.weight.new_tensor(conv_list[4])\n",
        "    self.Conv6.weight.new_tensor(conv_list[5])\n",
        "    self.fc1.weight.new_tensor(dense_list[0])\n",
        "    self.fc2.weight.new_tensor(dense_list[1])\n",
        "  def train(self,dataloader,epochs,train=True):\n",
        "    if train:\n",
        "      for epoch in range(epochs):\n",
        "        running_loss = 0.0\n",
        "        for i,data in enumerate(dataloader):\n",
        "          inputs,labels = data\n",
        "          self.optimizer.zero_grad()\n",
        "          outputs = self.forward(inputs)\n",
        "          loss = self.criterion(outputs,labels)\n",
        "          loss.backward()\n",
        "          self.optimizer.step()\n",
        "    #get accuracy\n",
        "    correct = 0\n",
        "    total = 0\n",
        "    with torch.no_grad():\n",
        "      for data in dataloader:\n",
        "        images,labels = data\n",
        "        outputs = self.forward(images)\n",
        "        _,prediction = torch.max(outputs,1) # choose classification based on highest probability\n",
        "        total+= labels.size(0)\n",
        "        correct += (labels == prediction).sum().item()\n",
        "    return float (correct/total)"
      ],
      "execution_count": null,
      "outputs": []
    },
    {
      "cell_type": "code",
      "metadata": {
        "id": "Du25BRnMATlG",
        "colab": {
          "base_uri": "https://localhost:8080/"
        },
        "outputId": "0b6337d8-9a4e-4e4d-dd6f-577fd182851d"
      },
      "source": [
        "batch = 23\n",
        "color_channels = 3\n",
        "img_size = 32\n",
        "x = torch.randn(batch,color_channels,img_size,img_size)\n",
        "server = Model()\n",
        "#server(x) # it works! May 29th 4:54pm\n",
        "x = server.getConvWeights()\n",
        "#x[0].size()\n",
        "y = server.getDenseWeights()\n",
        "#y[0].size() # should be 128x128\n",
        "\n",
        "device1 = Model() # test of setConvWeights\n",
        "x = server.getConvWeights()\n",
        "print(id(x[0]))\n",
        "device1.setConvWeights(server)\n",
        "y = device1.getConvWeights()\n",
        "print(id(y[0]))\n",
        "for i,j in zip(x,y):\n",
        "  assert id(x) != id(y) # shouldn't be at the same address \n",
        "\n",
        "device1 = Model() # test of setConvWeights\n",
        "x = server.getDenseWeights()\n",
        "print(id(x[0]))\n",
        "device1.setDenseWeights(server)\n",
        "y = device1.getDenseWeights()\n",
        "print(id(y[0]))\n",
        "for i,j in zip(x,y):\n",
        "  assert id(x) != id(y) # shouldn't be at the same address \n",
        "\n",
        "print(\"Passed prelim tests\")"
      ],
      "execution_count": null,
      "outputs": [
        {
          "output_type": "stream",
          "text": [
            "140209081516192\n",
            "140207624389888\n",
            "140207624389168\n",
            "140207624536864\n",
            "Passed prelim tests\n"
          ],
          "name": "stdout"
        },
        {
          "output_type": "stream",
          "text": [
            "/usr/local/lib/python3.7/dist-packages/ipykernel_launcher.py:59: UserWarning: To copy construct from a tensor, it is recommended to use sourceTensor.clone().detach() or sourceTensor.clone().detach().requires_grad_(True), rather than tensor.new_tensor(sourceTensor).\n",
            "/usr/local/lib/python3.7/dist-packages/ipykernel_launcher.py:60: UserWarning: To copy construct from a tensor, it is recommended to use sourceTensor.clone().detach() or sourceTensor.clone().detach().requires_grad_(True), rather than tensor.new_tensor(sourceTensor).\n",
            "/usr/local/lib/python3.7/dist-packages/ipykernel_launcher.py:61: UserWarning: To copy construct from a tensor, it is recommended to use sourceTensor.clone().detach() or sourceTensor.clone().detach().requires_grad_(True), rather than tensor.new_tensor(sourceTensor).\n",
            "/usr/local/lib/python3.7/dist-packages/ipykernel_launcher.py:62: UserWarning: To copy construct from a tensor, it is recommended to use sourceTensor.clone().detach() or sourceTensor.clone().detach().requires_grad_(True), rather than tensor.new_tensor(sourceTensor).\n",
            "/usr/local/lib/python3.7/dist-packages/ipykernel_launcher.py:63: UserWarning: To copy construct from a tensor, it is recommended to use sourceTensor.clone().detach() or sourceTensor.clone().detach().requires_grad_(True), rather than tensor.new_tensor(sourceTensor).\n",
            "/usr/local/lib/python3.7/dist-packages/ipykernel_launcher.py:64: UserWarning: To copy construct from a tensor, it is recommended to use sourceTensor.clone().detach() or sourceTensor.clone().detach().requires_grad_(True), rather than tensor.new_tensor(sourceTensor).\n",
            "/usr/local/lib/python3.7/dist-packages/ipykernel_launcher.py:66: UserWarning: To copy construct from a tensor, it is recommended to use sourceTensor.clone().detach() or sourceTensor.clone().detach().requires_grad_(True), rather than tensor.new_tensor(sourceTensor).\n",
            "/usr/local/lib/python3.7/dist-packages/ipykernel_launcher.py:67: UserWarning: To copy construct from a tensor, it is recommended to use sourceTensor.clone().detach() or sourceTensor.clone().detach().requires_grad_(True), rather than tensor.new_tensor(sourceTensor).\n"
          ],
          "name": "stderr"
        }
      ]
    },
    {
      "cell_type": "markdown",
      "metadata": {
        "id": "zvHhpZw4rDC8"
      },
      "source": [
        "### Load Cifar-10 and practice training\n",
        "\n",
        "Cifar loading code borrowed from:<br>\n",
        "https://pytorch.org/tutorials/beginner/blitz/cifar10_tutorial.html\n"
      ]
    },
    {
      "cell_type": "code",
      "metadata": {
        "id": "wSPJKV8oBO2w",
        "colab": {
          "base_uri": "https://localhost:8080/"
        },
        "outputId": "8d02e343-9409-4350-d660-33b6e93ead94"
      },
      "source": [
        "print(\"Load Cifar and practice training\")\n",
        "transform = transforms.Compose(\n",
        "    [transforms.ToTensor(),\n",
        "     transforms.Normalize((0.5, 0.5, 0.5), (0.5, 0.5, 0.5))])\n",
        "\n",
        "batch_size = 4\n",
        "num_clients = 4\n",
        "\n",
        "trainset = torchvision.datasets.CIFAR10(root='./data', train=True,\n",
        "                                        download=True, transform=transform)\n",
        "trainloader = torch.utils.data.DataLoader(trainset, batch_size=batch_size, # for server\n",
        "                                          shuffle=True, num_workers=2)\n",
        "#from : https://towardsdatascience.com/preserving-data-privacy-in-deep-learning-part-1-a04894f78029\n",
        "# Dividing the training data into num_clients, with each client having equal number of images\n",
        "traindata_split = torch.utils.data.random_split(trainset, [int(trainset.data.shape[0] / num_clients) for _ in range(num_clients)])\n",
        "#^ for clients\n",
        "\n",
        "# Creating a pytorch loader for a Deep Learning model\n",
        "train_loader = [torch.utils.data.DataLoader(x, batch_size=batch_size, shuffle=True) for x in traindata_split]\n",
        "\n",
        "\n",
        "testset = torchvision.datasets.CIFAR10(root='./data', train=False,\n",
        "                                       download=True, transform=transform)\n",
        "testloader = torch.utils.data.DataLoader(testset, batch_size=batch_size,\n",
        "                                         shuffle=True, num_workers=2)\n",
        "\n",
        "classes = ('plane', 'car', 'bird', 'cat',\n",
        "           'deer', 'dog', 'frog', 'horse', 'ship', 'truck')"
      ],
      "execution_count": null,
      "outputs": [
        {
          "output_type": "stream",
          "text": [
            "Load Cifar and practice training\n",
            "Files already downloaded and verified\n",
            "Files already downloaded and verified\n"
          ],
          "name": "stdout"
        }
      ]
    },
    {
      "cell_type": "code",
      "metadata": {
        "id": "F1hyysLNtGfL",
        "colab": {
          "base_uri": "https://localhost:8080/"
        },
        "outputId": "49251ddc-a6f3-4202-8bd6-aa099e3eca46"
      },
      "source": [
        "print(\"Set up devices for vanilla FL\")\n",
        "results_dict = dict()\n",
        "num_devices = num_clients\n",
        "for i in range(num_devices):\n",
        "  results_dict[\"Device \"+str(i)] = []\n",
        "results_dict[\"Server\"] = []\n",
        "communication_rounds = 10\n",
        "epoches = 1\n",
        "devices = []\n",
        "for i in range(num_devices):\n",
        "  devices.append(Model())\n",
        "server = Model()\n",
        "\n",
        "for i in range(communication_rounds):\n",
        "  print(\"Starting Communication Round %d\"%(i))\n",
        "  print(\"Transfer Global Model to devices\")\n",
        "  for device in devices:\n",
        "    device.setConvWeights(server)\n",
        "    device.setDenseWeights(server)\n",
        "\n",
        "  print(\"Training each device\")\n",
        "  for i,device in enumerate(devices):\n",
        "    accuracy = device.train(train_loader[i],epoches)\n",
        "    results_dict[\"Device \"+str(i)].append(accuracy)\n",
        "    print(\"Device %d has accuracy %f\"%(i,accuracy))\n",
        "  \n",
        "  print(\"Aggregate device models to server\")\n",
        "  global_conv = []\n",
        "  global_dense = []\n",
        "  for device in devices:\n",
        "    global_conv.append(device.getConvWeights())\n",
        "    global_dense.append(device.getDenseWeights())\n",
        "  x = global_conv[0]\n",
        "  y = global_dense[0]\n",
        "  for idx in range(1,num_devices,1):#from index 1 to the end\n",
        "    x = list(map(add,x,global_conv[idx]))\n",
        "    y = list(map(add,y,global_dense[idx]))\n",
        "  x = [torch.div(conv,num_devices) for conv in x]\n",
        "  y = [torch.div(dense,num_devices) for dense in y]\n",
        "  server.set_weights(x,y)\n",
        "  accuracy = server.train(trainloader,epoches,train=False) # frick it shouldn't train!, so train = False\n",
        "  print(\"Server Accuracy %f\"%(accuracy))\n",
        "  results_dict[\"Server\"].append(accuracy)\n",
        "print(\"Results Dict\")\n",
        "print(results_dict)"
      ],
      "execution_count": null,
      "outputs": [
        {
          "output_type": "stream",
          "text": [
            "Set up devices for vanilla FL\n",
            "Starting Communication Round 0\n",
            "Transfer Global Model to devices\n",
            "Training each device\n"
          ],
          "name": "stdout"
        },
        {
          "output_type": "stream",
          "text": [
            "/usr/local/lib/python3.7/dist-packages/ipykernel_launcher.py:59: UserWarning: To copy construct from a tensor, it is recommended to use sourceTensor.clone().detach() or sourceTensor.clone().detach().requires_grad_(True), rather than tensor.new_tensor(sourceTensor).\n",
            "/usr/local/lib/python3.7/dist-packages/ipykernel_launcher.py:60: UserWarning: To copy construct from a tensor, it is recommended to use sourceTensor.clone().detach() or sourceTensor.clone().detach().requires_grad_(True), rather than tensor.new_tensor(sourceTensor).\n",
            "/usr/local/lib/python3.7/dist-packages/ipykernel_launcher.py:61: UserWarning: To copy construct from a tensor, it is recommended to use sourceTensor.clone().detach() or sourceTensor.clone().detach().requires_grad_(True), rather than tensor.new_tensor(sourceTensor).\n",
            "/usr/local/lib/python3.7/dist-packages/ipykernel_launcher.py:62: UserWarning: To copy construct from a tensor, it is recommended to use sourceTensor.clone().detach() or sourceTensor.clone().detach().requires_grad_(True), rather than tensor.new_tensor(sourceTensor).\n",
            "/usr/local/lib/python3.7/dist-packages/ipykernel_launcher.py:63: UserWarning: To copy construct from a tensor, it is recommended to use sourceTensor.clone().detach() or sourceTensor.clone().detach().requires_grad_(True), rather than tensor.new_tensor(sourceTensor).\n",
            "/usr/local/lib/python3.7/dist-packages/ipykernel_launcher.py:64: UserWarning: To copy construct from a tensor, it is recommended to use sourceTensor.clone().detach() or sourceTensor.clone().detach().requires_grad_(True), rather than tensor.new_tensor(sourceTensor).\n",
            "/usr/local/lib/python3.7/dist-packages/ipykernel_launcher.py:66: UserWarning: To copy construct from a tensor, it is recommended to use sourceTensor.clone().detach() or sourceTensor.clone().detach().requires_grad_(True), rather than tensor.new_tensor(sourceTensor).\n",
            "/usr/local/lib/python3.7/dist-packages/ipykernel_launcher.py:67: UserWarning: To copy construct from a tensor, it is recommended to use sourceTensor.clone().detach() or sourceTensor.clone().detach().requires_grad_(True), rather than tensor.new_tensor(sourceTensor).\n",
            "/usr/local/lib/python3.7/dist-packages/torch/nn/modules/container.py:119: UserWarning: Implicit dimension choice for softmax has been deprecated. Change the call to include dim=X as an argument.\n",
            "  input = module(input)\n"
          ],
          "name": "stderr"
        },
        {
          "output_type": "stream",
          "text": [
            "Device 0 has accuracy 0.100000\n",
            "Device 1 has accuracy 0.099440\n",
            "Device 2 has accuracy 0.105040\n",
            "Device 3 has accuracy 0.102800\n",
            "Aggregate device models to server\n"
          ],
          "name": "stdout"
        },
        {
          "output_type": "stream",
          "text": [
            "/usr/local/lib/python3.7/dist-packages/ipykernel_launcher.py:70: UserWarning: To copy construct from a tensor, it is recommended to use sourceTensor.clone().detach() or sourceTensor.clone().detach().requires_grad_(True), rather than tensor.new_tensor(sourceTensor).\n",
            "/usr/local/lib/python3.7/dist-packages/ipykernel_launcher.py:71: UserWarning: To copy construct from a tensor, it is recommended to use sourceTensor.clone().detach() or sourceTensor.clone().detach().requires_grad_(True), rather than tensor.new_tensor(sourceTensor).\n",
            "/usr/local/lib/python3.7/dist-packages/ipykernel_launcher.py:72: UserWarning: To copy construct from a tensor, it is recommended to use sourceTensor.clone().detach() or sourceTensor.clone().detach().requires_grad_(True), rather than tensor.new_tensor(sourceTensor).\n",
            "/usr/local/lib/python3.7/dist-packages/ipykernel_launcher.py:73: UserWarning: To copy construct from a tensor, it is recommended to use sourceTensor.clone().detach() or sourceTensor.clone().detach().requires_grad_(True), rather than tensor.new_tensor(sourceTensor).\n",
            "/usr/local/lib/python3.7/dist-packages/ipykernel_launcher.py:74: UserWarning: To copy construct from a tensor, it is recommended to use sourceTensor.clone().detach() or sourceTensor.clone().detach().requires_grad_(True), rather than tensor.new_tensor(sourceTensor).\n",
            "/usr/local/lib/python3.7/dist-packages/ipykernel_launcher.py:75: UserWarning: To copy construct from a tensor, it is recommended to use sourceTensor.clone().detach() or sourceTensor.clone().detach().requires_grad_(True), rather than tensor.new_tensor(sourceTensor).\n",
            "/usr/local/lib/python3.7/dist-packages/ipykernel_launcher.py:76: UserWarning: To copy construct from a tensor, it is recommended to use sourceTensor.clone().detach() or sourceTensor.clone().detach().requires_grad_(True), rather than tensor.new_tensor(sourceTensor).\n",
            "/usr/local/lib/python3.7/dist-packages/ipykernel_launcher.py:77: UserWarning: To copy construct from a tensor, it is recommended to use sourceTensor.clone().detach() or sourceTensor.clone().detach().requires_grad_(True), rather than tensor.new_tensor(sourceTensor).\n"
          ],
          "name": "stderr"
        },
        {
          "output_type": "stream",
          "text": [
            "Server Accuracy 0.100000\n",
            "Starting Communication Round 1\n",
            "Transfer Global Model to devices\n",
            "Training each device\n",
            "Device 0 has accuracy 0.100000\n",
            "Device 1 has accuracy 0.104800\n",
            "Device 2 has accuracy 0.105040\n",
            "Device 3 has accuracy 0.102800\n",
            "Aggregate device models to server\n",
            "Server Accuracy 0.100000\n",
            "Starting Communication Round 2\n",
            "Transfer Global Model to devices\n",
            "Training each device\n",
            "Device 0 has accuracy 0.100000\n",
            "Device 1 has accuracy 0.104800\n",
            "Device 2 has accuracy 0.105040\n",
            "Device 3 has accuracy 0.102800\n",
            "Aggregate device models to server\n",
            "Server Accuracy 0.100000\n",
            "Starting Communication Round 3\n",
            "Transfer Global Model to devices\n",
            "Training each device\n",
            "Device 0 has accuracy 0.100000\n",
            "Device 1 has accuracy 0.104800\n",
            "Device 2 has accuracy 0.105040\n",
            "Device 3 has accuracy 0.102800\n",
            "Aggregate device models to server\n",
            "Server Accuracy 0.100000\n",
            "Starting Communication Round 4\n",
            "Transfer Global Model to devices\n",
            "Training each device\n",
            "Device 0 has accuracy 0.100000\n",
            "Device 1 has accuracy 0.104800\n",
            "Device 2 has accuracy 0.105040\n",
            "Device 3 has accuracy 0.102800\n",
            "Aggregate device models to server\n",
            "Server Accuracy 0.100000\n",
            "Starting Communication Round 5\n",
            "Transfer Global Model to devices\n",
            "Training each device\n",
            "Device 0 has accuracy 0.100000\n",
            "Device 1 has accuracy 0.104800\n",
            "Device 2 has accuracy 0.105040\n",
            "Device 3 has accuracy 0.102800\n",
            "Aggregate device models to server\n",
            "Server Accuracy 0.100000\n",
            "Starting Communication Round 6\n",
            "Transfer Global Model to devices\n",
            "Training each device\n",
            "Device 0 has accuracy 0.101760\n",
            "Device 1 has accuracy 0.104800\n",
            "Device 2 has accuracy 0.105040\n",
            "Device 3 has accuracy 0.102800\n",
            "Aggregate device models to server\n",
            "Server Accuracy 0.100000\n",
            "Starting Communication Round 7\n",
            "Transfer Global Model to devices\n",
            "Training each device\n",
            "Device 0 has accuracy 0.103440\n",
            "Device 1 has accuracy 0.104800\n",
            "Device 2 has accuracy 0.105040\n",
            "Device 3 has accuracy 0.102800\n",
            "Aggregate device models to server\n",
            "Server Accuracy 0.100000\n",
            "Starting Communication Round 8\n",
            "Transfer Global Model to devices\n",
            "Training each device\n",
            "Device 0 has accuracy 0.131040\n",
            "Device 1 has accuracy 0.104800\n",
            "Device 2 has accuracy 0.105040\n",
            "Device 3 has accuracy 0.102800\n",
            "Aggregate device models to server\n",
            "Server Accuracy 0.100000\n",
            "Starting Communication Round 9\n",
            "Transfer Global Model to devices\n",
            "Training each device\n",
            "Device 0 has accuracy 0.113600\n",
            "Device 1 has accuracy 0.104800\n",
            "Device 2 has accuracy 0.105040\n",
            "Device 3 has accuracy 0.102800\n",
            "Aggregate device models to server\n",
            "Server Accuracy 0.100000\n",
            "Results Dict\n",
            "{'Device 0': [0.1, 0.1, 0.1, 0.1, 0.1, 0.1, 0.10176, 0.10344, 0.13104, 0.1136], 'Device 1': [0.09944, 0.1048, 0.1048, 0.1048, 0.1048, 0.1048, 0.1048, 0.1048, 0.1048, 0.1048], 'Device 2': [0.10504, 0.10504, 0.10504, 0.10504, 0.10504, 0.10504, 0.10504, 0.10504, 0.10504, 0.10504], 'Device 3': [0.1028, 0.1028, 0.1028, 0.1028, 0.1028, 0.1028, 0.1028, 0.1028, 0.1028, 0.1028], 'Server': [0.1, 0.1, 0.1, 0.1, 0.1, 0.1, 0.1, 0.1, 0.1, 0.1]}\n"
          ],
          "name": "stdout"
        }
      ]
    },
    {
      "cell_type": "code",
      "metadata": {
        "colab": {
          "base_uri": "https://localhost:8080/"
        },
        "id": "4g91T3zcDer-",
        "outputId": "8ead7aad-93b8-44da-a904-2b167d6801e3"
      },
      "source": [
        "# to continue training: old needs to be changined for iid data: june 11th\n",
        "for i in range(3,10):\n",
        "  print(\"Starting Communication Round %d\"%(i))\n",
        "  print(\"Transfer Global Model to devices\")\n",
        "  for device in devices:\n",
        "    device.setConvWeights(server)\n",
        "    device.setDenseWeights(server)\n",
        "\n",
        "  print(\"Training each device\")\n",
        "  for i,device in enumerate(devices):\n",
        "    accuracy = device.train(trainloader,epoches)\n",
        "    results_dict[\"Device \"+str(i)].append(accuracy)\n",
        "    print(\"Device %d has accuracy %f\"%(i,accuracy))\n",
        "  \n",
        "  print(\"Aggregate device models to server\")\n",
        "  global_conv = []\n",
        "  global_dense = []\n",
        "  for device in devices:\n",
        "    global_conv.append(device.getConvWeights())\n",
        "    global_dense.append(device.getDenseWeights())\n",
        "  x = global_conv[0]\n",
        "  y = global_dense[0]\n",
        "  for idx in range(1,num_devices,1):#from index 1 to the end\n",
        "    x = list(map(add,x,global_conv[idx]))\n",
        "    y = list(map(add,y,global_dense[idx]))\n",
        "  x = [torch.div(conv,num_devices) for conv in x]\n",
        "  y = [torch.div(dense,num_devices) for dense in y]\n",
        "  server.set_weights(x,y)\n",
        "  accuracy = server.train(trainloader,epoches)\n",
        "  results_dict[\"Server\"].append(accuracy)\n",
        "print(\"Results Dict\")\n",
        "print(results_dict)"
      ],
      "execution_count": null,
      "outputs": [
        {
          "output_type": "stream",
          "text": [
            "Starting Communication Round 3\n",
            "Transfer Global Model to devices\n",
            "Training each device\n"
          ],
          "name": "stdout"
        },
        {
          "output_type": "stream",
          "text": [
            "/usr/local/lib/python3.7/dist-packages/ipykernel_launcher.py:59: UserWarning: To copy construct from a tensor, it is recommended to use sourceTensor.clone().detach() or sourceTensor.clone().detach().requires_grad_(True), rather than tensor.new_tensor(sourceTensor).\n",
            "/usr/local/lib/python3.7/dist-packages/ipykernel_launcher.py:60: UserWarning: To copy construct from a tensor, it is recommended to use sourceTensor.clone().detach() or sourceTensor.clone().detach().requires_grad_(True), rather than tensor.new_tensor(sourceTensor).\n",
            "/usr/local/lib/python3.7/dist-packages/ipykernel_launcher.py:61: UserWarning: To copy construct from a tensor, it is recommended to use sourceTensor.clone().detach() or sourceTensor.clone().detach().requires_grad_(True), rather than tensor.new_tensor(sourceTensor).\n",
            "/usr/local/lib/python3.7/dist-packages/ipykernel_launcher.py:62: UserWarning: To copy construct from a tensor, it is recommended to use sourceTensor.clone().detach() or sourceTensor.clone().detach().requires_grad_(True), rather than tensor.new_tensor(sourceTensor).\n",
            "/usr/local/lib/python3.7/dist-packages/ipykernel_launcher.py:63: UserWarning: To copy construct from a tensor, it is recommended to use sourceTensor.clone().detach() or sourceTensor.clone().detach().requires_grad_(True), rather than tensor.new_tensor(sourceTensor).\n",
            "/usr/local/lib/python3.7/dist-packages/ipykernel_launcher.py:64: UserWarning: To copy construct from a tensor, it is recommended to use sourceTensor.clone().detach() or sourceTensor.clone().detach().requires_grad_(True), rather than tensor.new_tensor(sourceTensor).\n",
            "/usr/local/lib/python3.7/dist-packages/ipykernel_launcher.py:66: UserWarning: To copy construct from a tensor, it is recommended to use sourceTensor.clone().detach() or sourceTensor.clone().detach().requires_grad_(True), rather than tensor.new_tensor(sourceTensor).\n",
            "/usr/local/lib/python3.7/dist-packages/ipykernel_launcher.py:67: UserWarning: To copy construct from a tensor, it is recommended to use sourceTensor.clone().detach() or sourceTensor.clone().detach().requires_grad_(True), rather than tensor.new_tensor(sourceTensor).\n",
            "/usr/local/lib/python3.7/dist-packages/torch/nn/modules/container.py:119: UserWarning: Implicit dimension choice for softmax has been deprecated. Change the call to include dim=X as an argument.\n",
            "  input = module(input)\n"
          ],
          "name": "stderr"
        },
        {
          "output_type": "stream",
          "text": [
            "Device 0 has accuracy 0.101000\n",
            "Device 1 has accuracy 0.100000\n",
            "Device 2 has accuracy 0.100000\n",
            "Device 3 has accuracy 0.100000\n",
            "Aggregate device models to server\n"
          ],
          "name": "stdout"
        },
        {
          "output_type": "stream",
          "text": [
            "/usr/local/lib/python3.7/dist-packages/ipykernel_launcher.py:70: UserWarning: To copy construct from a tensor, it is recommended to use sourceTensor.clone().detach() or sourceTensor.clone().detach().requires_grad_(True), rather than tensor.new_tensor(sourceTensor).\n",
            "/usr/local/lib/python3.7/dist-packages/ipykernel_launcher.py:71: UserWarning: To copy construct from a tensor, it is recommended to use sourceTensor.clone().detach() or sourceTensor.clone().detach().requires_grad_(True), rather than tensor.new_tensor(sourceTensor).\n",
            "/usr/local/lib/python3.7/dist-packages/ipykernel_launcher.py:72: UserWarning: To copy construct from a tensor, it is recommended to use sourceTensor.clone().detach() or sourceTensor.clone().detach().requires_grad_(True), rather than tensor.new_tensor(sourceTensor).\n",
            "/usr/local/lib/python3.7/dist-packages/ipykernel_launcher.py:73: UserWarning: To copy construct from a tensor, it is recommended to use sourceTensor.clone().detach() or sourceTensor.clone().detach().requires_grad_(True), rather than tensor.new_tensor(sourceTensor).\n",
            "/usr/local/lib/python3.7/dist-packages/ipykernel_launcher.py:74: UserWarning: To copy construct from a tensor, it is recommended to use sourceTensor.clone().detach() or sourceTensor.clone().detach().requires_grad_(True), rather than tensor.new_tensor(sourceTensor).\n",
            "/usr/local/lib/python3.7/dist-packages/ipykernel_launcher.py:75: UserWarning: To copy construct from a tensor, it is recommended to use sourceTensor.clone().detach() or sourceTensor.clone().detach().requires_grad_(True), rather than tensor.new_tensor(sourceTensor).\n",
            "/usr/local/lib/python3.7/dist-packages/ipykernel_launcher.py:76: UserWarning: To copy construct from a tensor, it is recommended to use sourceTensor.clone().detach() or sourceTensor.clone().detach().requires_grad_(True), rather than tensor.new_tensor(sourceTensor).\n",
            "/usr/local/lib/python3.7/dist-packages/ipykernel_launcher.py:77: UserWarning: To copy construct from a tensor, it is recommended to use sourceTensor.clone().detach() or sourceTensor.clone().detach().requires_grad_(True), rather than tensor.new_tensor(sourceTensor).\n"
          ],
          "name": "stderr"
        },
        {
          "output_type": "stream",
          "text": [
            "Starting Communication Round 4\n",
            "Transfer Global Model to devices\n",
            "Training each device\n",
            "Device 0 has accuracy 0.285720\n",
            "Device 1 has accuracy 0.100000\n",
            "Device 2 has accuracy 0.100000\n",
            "Device 3 has accuracy 0.170760\n",
            "Aggregate device models to server\n",
            "Starting Communication Round 5\n",
            "Transfer Global Model to devices\n",
            "Training each device\n",
            "Device 0 has accuracy 0.340680\n",
            "Device 1 has accuracy 0.232540\n",
            "Device 2 has accuracy 0.100060\n",
            "Device 3 has accuracy 0.321460\n",
            "Aggregate device models to server\n",
            "Starting Communication Round 6\n",
            "Transfer Global Model to devices\n",
            "Training each device\n",
            "Device 0 has accuracy 0.374020\n",
            "Device 1 has accuracy 0.306640\n",
            "Device 2 has accuracy 0.234840\n"
          ],
          "name": "stdout"
        }
      ]
    },
    {
      "cell_type": "code",
      "metadata": {
        "id": "_C9dBBPerTtd"
      },
      "source": [
        "print(\"Results Dict\")\n",
        "print(results_dict)"
      ],
      "execution_count": null,
      "outputs": []
    },
    {
      "cell_type": "code",
      "metadata": {
        "id": "ApDadrQt1_gd"
      },
      "source": [
        "# check aggregation\n",
        "global_conv = []\n",
        "global_dense = []\n",
        "for device in devices:\n",
        "  global_conv.append(device.getConvWeights())\n",
        "  global_dense.append(device.getDenseWeights())\n",
        "#print(global_conv)\n",
        "x = global_conv[0]\n",
        "y = global_dense[0]\n",
        "#print(x[0][0])\n",
        "for idx in range(1,num_devices,1):\n",
        "  print(idx)\n",
        "  x = list(map(add,x,global_conv[idx]))\n",
        "  y = list(map(add,y,global_dense[idx]))\n",
        "print(x[0][0])\n",
        "adi = input(\"continue\")\n",
        "x = [torch.div(conv,num_devices) for conv in x]\n",
        "y = [torch.div(dense,num_devices) for dense in y]\n",
        "print(x[0][0])\n",
        "# it works"
      ],
      "execution_count": null,
      "outputs": []
    },
    {
      "cell_type": "code",
      "metadata": {
        "id": "qmH6L60d3GCB"
      },
      "source": [
        "print(global_conv[0][0][0])\n",
        "print(global_conv[1][0][0])\n",
        "print(global_conv[2][0][0])"
      ],
      "execution_count": null,
      "outputs": []
    },
    {
      "cell_type": "code",
      "metadata": {
        "id": "A4UV8Oq-4yFX"
      },
      "source": [
        "len(global_conv)\n",
        "print(range(2,num_devices,1))\n"
      ],
      "execution_count": null,
      "outputs": []
    },
    {
      "cell_type": "code",
      "metadata": {
        "id": "PlJ0x9JIzJRv"
      },
      "source": [
        "server.train(trainloader,epoches)"
      ],
      "execution_count": null,
      "outputs": []
    },
    {
      "cell_type": "code",
      "metadata": {
        "id": "9f6Thc7ezDOn"
      },
      "source": [
        "a = torch.randn(4, 4)\n",
        "b = torch.randn(4, 4)\n",
        "torch.mean(Tensor(a,b))"
      ],
      "execution_count": null,
      "outputs": []
    }
  ]
}