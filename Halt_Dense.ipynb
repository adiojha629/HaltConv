{
  "nbformat": 4,
  "nbformat_minor": 0,
  "metadata": {
    "colab": {
      "name": "Halt_Dense.ipynb",
      "provenance": [],
      "collapsed_sections": [
        "7u7PrB2BI_LS",
        "VT5mLiDM034L",
        "S2JuLiLRDio2",
        "O9lESbOc454f",
        "woZV8dkI4228",
        "soiO1VyB8Sid"
      ],
      "mount_file_id": "1wjRlu8TSX-sxiS0AP4xiaPic_HlbfPeL",
      "authorship_tag": "ABX9TyOhvXzqdTfazJVXjgdKjpSC",
      "include_colab_link": true
    },
    "kernelspec": {
      "name": "python3",
      "display_name": "Python 3"
    },
    "language_info": {
      "name": "python"
    }
  },
  "cells": [
    {
      "cell_type": "markdown",
      "metadata": {
        "id": "view-in-github",
        "colab_type": "text"
      },
      "source": [
        "<a href=\"https://colab.research.google.com/github/adiojha629/HaltConv/blob/main/Halt_Dense.ipynb\" target=\"_parent\"><img src=\"https://colab.research.google.com/assets/colab-badge.svg\" alt=\"Open In Colab\"/></a>"
      ]
    },
    {
      "cell_type": "markdown",
      "metadata": {
        "id": "7u7PrB2BI_LS"
      },
      "source": [
        "# Libraries"
      ]
    },
    {
      "cell_type": "code",
      "metadata": {
        "id": "DdvOtjl90nFu"
      },
      "source": [
        "import torch #Pytorch used for Model creation\n",
        "import torchvision\n",
        "from torchvision import datasets, transforms # 'datasets' gives us MNIST, 'transforms' allows use to turn images into tensors\n",
        "import matplotlib.pyplot as plt #To View Images\n",
        "import torch.nn as nn #To set up the model\n",
        "import torch.nn.functional as F #To calculate loss, use different activations etc.\n",
        "import torch.optim as optim #To access the adam optimizer\n",
        "import pandas as pd\n",
        "import numpy as np\n",
        "import matplotlib.pyplot as plt\n",
        "import random,csv,pickle,time,datetime\n",
        "import torch.optim as optim\n",
        "from operator import add,truediv\n",
        "from sys import getsizeof\n",
        "debug = False"
      ],
      "execution_count": 57,
      "outputs": []
    },
    {
      "cell_type": "markdown",
      "metadata": {
        "id": "zvHhpZw4rDC8"
      },
      "source": [
        "# Load Cifar-10 and practice training\n",
        "\n",
        "Cifar loading code borrowed from:<br>\n",
        "https://pytorch.org/tutorials/beginner/blitz/cifar10_tutorial.html\n",
        "\n",
        "## IID Cifar10 Loader\n"
      ]
    },
    {
      "cell_type": "code",
      "metadata": {
        "id": "wSPJKV8oBO2w",
        "colab": {
          "base_uri": "https://localhost:8080/"
        },
        "outputId": "0c9eef0b-2da6-4646-ef1a-c67899525ca6"
      },
      "source": [
        "print(\"Load Cifar and practice training\")\n",
        "transform = transforms.Compose(\n",
        "    [transforms.ToTensor(),\n",
        "     transforms.Normalize((0.5, 0.5, 0.5), (0.5, 0.5, 0.5))])\n",
        "\n",
        "batch_size = 4\n",
        "num_devices = 4\n",
        "def iid_cifar10(batch_size = 4,num_devices = 4):\n",
        "  trainset = torchvision.datasets.CIFAR10(root='./data', train=True,\n",
        "                                          download=True, transform=transform)\n",
        "  #trainloader = torch.utils.data.DataLoader(trainset, batch_size=batch_size, # for server\n",
        "                                            #shuffle=True, num_workers=2)\n",
        "  #from : https://towardsdatascience.com/preserving-data-privacy-in-deep-learning-part-1-a04894f78029\n",
        "  # Dividing the training data into num_clients, with each client having equal number of images\n",
        "  traindata_split = torch.utils.data.random_split(trainset, [int(trainset.data.shape[0] / num_devices) for _ in range(num_devices)])\n",
        "  #^ for clients\n",
        "\n",
        "  # Creating a pytorch loader for a Deep Learning model\n",
        "  train_loader = [torch.utils.data.DataLoader(x, batch_size=batch_size, shuffle=True) for x in traindata_split]\n",
        "\n",
        "\n",
        "  testset = torchvision.datasets.CIFAR10(root='./data', train=False,\n",
        "                                        download=True, transform=transform)\n",
        "  testloader = torch.utils.data.DataLoader(testset, batch_size=batch_size,\n",
        "                                          shuffle=True, num_workers=2)\n",
        "  return train_loader,testloader\n",
        "\n",
        "classes = ('plane', 'car', 'bird', 'cat',\n",
        "           'deer', 'dog', 'frog', 'horse', 'ship', 'truck')"
      ],
      "execution_count": 64,
      "outputs": [
        {
          "output_type": "stream",
          "text": [
            "Load Cifar and practice training\n"
          ],
          "name": "stdout"
        }
      ]
    },
    {
      "cell_type": "markdown",
      "metadata": {
        "id": "JwiePy5P_ojJ"
      },
      "source": [
        "## Non-iid Loader\n",
        "### Helper Functions"
      ]
    },
    {
      "cell_type": "code",
      "metadata": {
        "id": "CrWuVoQlILzU"
      },
      "source": [
        "import numpy as np\n",
        "from torchvision import datasets, transforms\n",
        "def get_labels(dataset):\n",
        "  \"\"\"\n",
        "  Get numpy array of labels from torchvision datasets object\n",
        "  :param: dataset- the torchvision dataset object to extract labels from\n",
        "  :return: np.array of all labels\n",
        "  \"\"\"\n",
        "  size = dataset.__len__()\n",
        "  labels = []\n",
        "  for i in range(size):\n",
        "    img,label = dataset.__getitem__(i)\n",
        "    labels.append(label)\n",
        "  return np.array(labels)\n",
        "def cifar_noniid(dataset, num_users):\n",
        "    \"\"\"\n",
        "    Sample non-I.I.D client data from CIFAR10 dataset\n",
        "    :param dataset:\n",
        "    :param num_users:\n",
        "    :return:\n",
        "    \"\"\"\n",
        "    num_shards, num_imgs = 200, 250\n",
        "    idx_shard = [i for i in range(num_shards)] # 0,1,2,...199\n",
        "    dict_users = {i: np.array([]) for i in range(num_users)} # dictionary of users\n",
        "    idxs = np.arange(num_shards*num_imgs) # 0,1,2, .... 49,999 : 50,000 length\n",
        "    #labels = dataset.train_labels.numpy()\n",
        "    #labels = np.array(dataset.train_labels) old way not work\n",
        "    labels = get_labels(dataset) # Length 50,000\n",
        "\n",
        "    # sort labels\n",
        "    idxs_labels = np.vstack((idxs, labels)) # [[0-49,999],[label1-label50,000]]\n",
        "    idxs_labels = idxs_labels[:, idxs_labels[1, :].argsort()] # sort labels \n",
        "    idxs = idxs_labels[0, :]\n",
        "\n",
        "    # divide and assign\n",
        "    num_imgs = 12500 # each device has 2*num_imgs number of images\n",
        "    \n",
        "    for i in range(num_users):\n",
        "        dict_users[i] = np.array([])\n",
        "        while len(dict_users[i]) == 0 or len(dict_users[i]) != 12500:\n",
        "          rand_set = set(np.random.choice(idx_shard, 2, replace=False)) #sample 2 ids without replacement\n",
        "          idx_shard = list(set(idx_shard) - rand_set) # remove those 2 ids from idx_shard so they can't be choosen again\n",
        "          for rand in rand_set: # For each id, we choose one user, (b/c logic above we choose each user once)\n",
        "              dict_users[i] = np.concatenate(\n",
        "                  (dict_users[i], idxs[rand*num_imgs:(rand+1)*num_imgs]), axis=0) # add (num_imgs) number of indexes\n",
        "              ## returns a dict where each user is a key, and the values are arrays of indices to specific images\n",
        "    for user in dict_users.keys():\n",
        "      id_array = dict_users[user].copy()\n",
        "      img_list = []\n",
        "      label_list = []\n",
        "      #print(id_array)\n",
        "      #adi = input()\n",
        "      for id in id_array: # len(id_array) number of images added\n",
        "        img,label = dataset.__getitem__(int(id))\n",
        "        img_list.append(img)\n",
        "        label_list.append(label)\n",
        "      dict_users[user] = [img_list,label_list]\n",
        "    return dict_users # returns a dict where each user is a key, and \n",
        "    #the values is a list of 2 lists: one with images in order, other with corresponding labels"
      ],
      "execution_count": 78,
      "outputs": []
    },
    {
      "cell_type": "code",
      "metadata": {
        "id": "v_CYAvLRFYuy"
      },
      "source": [
        "# Define Dataset class for non-iid sets\n",
        "from torch.utils.data import Dataset, DataLoader\n",
        "class non_iid_dataset(Dataset):\n",
        "  def __init__(self,img_list,label_list,transform=None):\n",
        "    super().__init__()\n",
        "    self.imgs = torch.stack(img_list)\n",
        "    self.labels = np.array(label_list)\n",
        "    self.transform = transform\n",
        "  def __len__(self):\n",
        "    return len(self.labels)\n",
        "  def __getitem__(self, idx):\n",
        "    if torch.is_tensor(idx):\n",
        "        idx = idx.tolist()\n",
        "    img = self.imgs[idx]\n",
        "    label = self.labels[idx]\n",
        "    if not isinstance(img,torch.Tensor):\n",
        "      img = np.array(img,dtype=np.float)\n",
        "      img = torch.from_numpy(img)\n",
        "    # if not isinstance(label,torch.Tensor):\n",
        "    #   label = torch.from_numpy(np.array([label],dtype=np.float))\n",
        "    # sample = {'image': img, 'landmarks': label}\n",
        "    # if self.transform:\n",
        "    #   sample = self.transform(sample)\n",
        "    return self.transform(img),label # label should be int\n",
        "  def __iter__(self):\n",
        "    return non_iid_iteratorClass(self)\n",
        "class non_iid_iteratorClass:\n",
        "  def __init__(self,data):\n",
        "    self._data = data\n",
        "    self._index = 0\n",
        "  def __next__(self):\n",
        "    if self._index < _data.__len__():\n",
        "      result = self._data.__getitem__(self._index)\n",
        "      self._index+=1\n",
        "      return result\n",
        "    else:\n",
        "      raise StopIteration #https://thispointer.com/python-how-to-make-a-class-iterable-create-iterator-class-for-it/"
      ],
      "execution_count": 66,
      "outputs": []
    },
    {
      "cell_type": "markdown",
      "metadata": {
        "id": "egW6MFja_uKD"
      },
      "source": [
        "## Actual Loader-Function"
      ]
    },
    {
      "cell_type": "code",
      "metadata": {
        "id": "mPX78ijYHI8E"
      },
      "source": [
        "# create Dataloaders for non-iid data\n",
        "# batch_size = 4\n",
        "# num_devices = 4\n",
        "def non_iid_cifar10(batch_size = 4,num_devices=4):\n",
        "  trainset = torchvision.datasets.CIFAR10(root='./data', train=True,\n",
        "                                          download=True, transform=transform)\n",
        "  non_iid_data = cifar_noniid(trainset,num_devices) # returns dict{user:[[imgslist],[labelslist]]}\n",
        "  \n",
        "  transformer = transforms.Compose(\n",
        "      [transforms.Normalize((0.5, 0.5, 0.5), (0.5, 0.5, 0.5))])\n",
        "  \n",
        "  non_iid_train_split = [non_iid_dataset(img_list = non_iid_data[key][0],\n",
        "                                        label_list = non_iid_data[key][1],\n",
        "                                        transform = transformer) for key in non_iid_data.keys()]\n",
        "  train_loader = [torch.utils.data.DataLoader(x, batch_size=batch_size, shuffle=True) for x in non_iid_train_split]\n",
        "  testset = torchvision.datasets.CIFAR10(root='./data', train=False,\n",
        "                                        download=True, transform=transform)\n",
        "  testloader = torch.utils.data.DataLoader(testset, batch_size=batch_size,\n",
        "                                          shuffle=True, num_workers=2)\n",
        "  return train_loader,testloader"
      ],
      "execution_count": 67,
      "outputs": []
    },
    {
      "cell_type": "markdown",
      "metadata": {
        "id": "VT5mLiDM034L"
      },
      "source": [
        "# Halt Dense Simulation\n",
        "during each model update <br>\n",
        "if accuracy > threshold:<br>\n",
        "> share convolutional and dense layers\n",
        "<br>else:<br>\n",
        "> share convolutional layers only\n",
        "\n",
        "## Model Class\n",
        "\n"
      ]
    },
    {
      "cell_type": "code",
      "metadata": {
        "id": "LdrGCbww1V_N"
      },
      "source": [
        "# Super-class model\n",
        "# Now use setup from FedMax\n",
        "Allen_Net = {'Conv': [32,'M',64,64,'M',64,64,'M'],\n",
        "             'MLP': [(1024,512),'ReLU',(512,10)]} # 'MLP' for user-readability, not used to generate dense layers\n",
        "\n",
        "class Model(nn.Module):\n",
        "  def __init__(self,net_setup):\n",
        "    super().__init__()\n",
        "    self.ConvLayers = self._make_conv(net_setup['Conv'])\n",
        "    self.MLP = nn.Sequential(nn.Linear(1024,512),nn.ReLU(True),nn.Linear(512,10))\n",
        "    self.criterion = nn.CrossEntropyLoss()\n",
        "    self.optimizer = optim.SGD(self.parameters(), lr=0.001, momentum=0.9)\n",
        "  def _make_conv(self,layer_list):\n",
        "    layer = [] # add layers based on layer_list\n",
        "    in_channel = 3 # starting in_channel\n",
        "    for x in layer_list:\n",
        "      if x == 'M':# Add maxpool2d\n",
        "        layer += [nn.MaxPool2d(kernel_size = 2,stride = 2)]\n",
        "      else:\n",
        "        layer += [nn.Conv2d(in_channel,x,kernel_size = 3,padding=1),nn.BatchNorm2d(x),nn.ReLU(inplace=True)]\n",
        "        in_channel = x # set new channel size\n",
        "    return nn.Sequential(*layer) # make layers into sequential object\n",
        "  def forward(self,x):\n",
        "    out1 = self.ConvLayers(x) # conv\n",
        "    out2 = out1.view(out1.size(0),-1) # flatten\n",
        "    out3 = self.MLP(out2) # mlp\n",
        "    return F.log_softmax(out3,dim=1) # log softmax activation \n",
        "  def getConvWeights(self):\n",
        "    return self.ConvLayers.state_dict()\n",
        "  def getDenseWeights(self):\n",
        "    return self.MLP.state_dict()\n",
        "  def setConvWeights(self,conv_state_dict):\n",
        "    self.ConvLayers.load_state_dict(conv_state_dict)\n",
        "\n",
        "  def setDenseWeights(self,dense_state_dict):\n",
        "    self.MLP.load_state_dict(dense_state_dict)\n",
        "\n",
        "def train(model,dataloader,epochs):\n",
        "  model.train()\n",
        "  running_loss = 0.0\n",
        "  for epoch in range(epochs):\n",
        "    for i,data in enumerate(dataloader):\n",
        "      inputs,labels = data\n",
        "      model.optimizer.zero_grad()\n",
        "      outputs = model.forward(inputs)\n",
        "      loss = model.criterion(outputs,labels)\n",
        "      running_loss += float(loss)\n",
        "      loss.backward()\n",
        "      model.optimizer.step()\n",
        "  return running_loss/len(dataloader.dataset)\n",
        "\n",
        "#Testing functions\n",
        "def test(model,testloader):\n",
        "  model.eval()\n",
        "  test_loss = 0\n",
        "  correct = 0\n",
        "  with torch.no_grad():\n",
        "    for data,target in testloader:\n",
        "      #data,target = data.cuda(),target.cuda()\n",
        "      output = model(data)\n",
        "      test_loss += F.nll_loss(output,target,reduction='sum').item()\n",
        "      pred = output.argmax(dim=1,keepdim=True)\n",
        "      correct += pred.eq(target.view_as(pred)).sum().item()\n",
        "  test_loss /= len(testloader.dataset)\n",
        "  acc = correct/len(testloader.dataset)\n",
        "  return test_loss,acc\n",
        "\n",
        "# for saving models\n",
        "def save_models(file_path,devices,server):\n",
        "  # Saves each model in devices, & server to file_path\n",
        "  # param: file_path: str, path to folder\n",
        "  # param: devices: list of torch.nn.Module models\n",
        "  # param: server: a torch.nn.Module model\n",
        "  torch.save(server.state_dict(),file_path+\"/Server.pt\")\n",
        "  for i,model in enumerate(devices):\n",
        "    torch.save(model.state_dict(),file_path+\"/model_%d\"%(i))\n",
        "\n",
        "def plot_this(results_dict,num_devices,com_rounds,file_path,algo='Vanilla'):\n",
        "  test_accuracy = [results_dict['Server'][i][1] for i in range(len(results_dict['Server']))]\n",
        "  test_loss = [results_dict['Server'][i][0] for i in range(len(results_dict['Server']))]\n",
        "\n",
        "  fig,ax = plt.subplots(1,2,figsize=(12,6))\n",
        "  ax[0].plot(test_accuracy,'b')\n",
        "  ax[0].set_title(\"%s Global Accuracy vs. Communication Round\\n%d devices,Total Bytes Sent %d\"%(algo,num_devices,results_dict['Bytes Sent']))\n",
        "  ax[0].set_xlabel(\"Communication Round\")\n",
        "  ax[0].set_ylabel(\"Accuracy\")\n",
        "  ax[1].plot(test_loss,'g')\n",
        "  ax[1].set_title(\"%s Global Loss vs. Communication Round\"%(algo))\n",
        "  ax[1].set_xlabel(\"Communication Round\")\n",
        "  ax[1].set_ylabel(\"Neg. Log Likihood Loss\")\n",
        "  fig.show()\n",
        "  fig.savefig(file_path+\"/%s_FL_%d_%d.png\"%(algo,num_devices,com_rounds))\n",
        "  # now plot the performance of the devices\n",
        "  fig,ax = plt.subplots(1,2,figsize=(12,6))\n",
        "  for idx in range(num_devices):\n",
        "    test_accuracy = [results_dict['Device '+str(idx)][i][2] for i in range(len(results_dict['Device '+str(idx)]))]\n",
        "    test_loss = [results_dict['Device '+str(idx)][i][1] for i in range(len(results_dict['Device '+str(idx)]))]\n",
        "    ax[0].plot(test_accuracy)\n",
        "    ax[1].plot(test_loss)\n",
        "  ax[0].set_title(\"%s Device Accuracy vs. Communication Round\\n%d devices,Total Bytes Sent %d\"%(algo,num_devices,results_dict['Bytes Sent']))\n",
        "  ax[0].set_xlabel(\"Communication Round\")\n",
        "  ax[0].set_ylabel(\"Accuracy\")\n",
        "  ax[1].set_title(\"%s Device Loss vs. Communication Round\"%(algo))\n",
        "  ax[1].set_xlabel(\"Communication Round\")\n",
        "  ax[1].set_ylabel(\"Neg. Log Likihood Loss\")\n",
        "  fig.savefig(file_path+\"/%s_device_FL_%d_%d.png\"%(algo,num_devices,com_rounds))"
      ],
      "execution_count": null,
      "outputs": []
    },
    {
      "cell_type": "markdown",
      "metadata": {
        "id": "S2JuLiLRDio2"
      },
      "source": [
        "## Debug Model Class"
      ]
    },
    {
      "cell_type": "code",
      "metadata": {
        "id": "Du25BRnMATlG"
      },
      "source": [
        "if debug:\n",
        "  batch = 23\n",
        "  color_channels = 3\n",
        "  img_size = 32\n",
        "  x = torch.randn(batch,color_channels,img_size,img_size)\n",
        "  server = Model(Allen_Net)\n",
        "  #server(x) # it works! May 29th 4:54pm\n",
        "  x = server.getConvWeights()\n",
        "  #x[0].size()\n",
        "  y = server.getDenseWeights()\n",
        "  #y[0].size() # should be 128x128\n",
        "\n",
        "  device1 = Model(Allen_Net) # test of setConvWeights\n",
        "  x = server.getConvWeights()\n",
        "  print(id(x))\n",
        "  device1.setConvWeights(server.getConvWeights())\n",
        "  y = device1.getConvWeights()\n",
        "  print(id(y))\n",
        "  for i,j in zip(x,y):\n",
        "    assert id(x) != id(y) # shouldn't be at the same address \n",
        "\n",
        "  device1 = Model(Allen_Net) # test of setConvWeights\n",
        "  x = server.getDenseWeights()\n",
        "  print(id(x))\n",
        "  device1.setDenseWeights(server.getDenseWeights())\n",
        "  y = device1.getDenseWeights()\n",
        "  print(id(y))\n",
        "  for i,j in zip(x,y):\n",
        "    assert id(x) != id(y) # shouldn't be at the same address \n",
        "\n",
        "  print(getsizeof(server.getDenseWeights()))\n",
        "  print(getsizeof(server.getConvWeights()))\n",
        "  print(\"Passed prelim tests\")"
      ],
      "execution_count": null,
      "outputs": []
    },
    {
      "cell_type": "markdown",
      "metadata": {
        "id": "O9lESbOc454f"
      },
      "source": [
        "# Vanilla FL"
      ]
    },
    {
      "cell_type": "code",
      "metadata": {
        "id": "F1hyysLNtGfL"
      },
      "source": [
        "def Vanilla_FL(train_loader,testloader,num_devices=4,communication_rounds = 10,epoches = 1):\n",
        "  print(\"Set up devices for vanilla FL\")\n",
        "  file_path = input(\"Name of Experiment \")\n",
        "  results_dict = dict()\n",
        "  results_dict['Bytes Sent'] = 0\n",
        "  #num_devices = num_clients\n",
        "  for i in range(num_devices):\n",
        "    results_dict[\"Device \"+str(i)] = []\n",
        "  results_dict[\"Server\"] = []\n",
        "  #communication_rounds = 10\n",
        "  #epoches = 1\n",
        "  devices = []\n",
        "  for i in range(num_devices): # init devices and server\n",
        "    devices.append(Model(Allen_Net))\n",
        "  server = Model(Allen_Net)\n",
        "  time_start = time.time()\n",
        "  for i in range(communication_rounds): # training loop\n",
        "    print(\"Starting Communication Round %d\"%(i))\n",
        "    print(\"Transfer Global Model to devices\")\n",
        "    for device in devices:\n",
        "      device.setConvWeights(server.getConvWeights())\n",
        "      device.setDenseWeights(server.getDenseWeights())\n",
        "\n",
        "    print(\"Training each device\")\n",
        "    for i,device in enumerate(devices):\n",
        "      loss = train(device,train_loader[i],epoches)\n",
        "      test_l,acc = test(device,train_loader[i])\n",
        "      results_dict[\"Device \"+str(i)].append([loss,test_l,acc])\n",
        "      print(\"Device %d has training loss %f, testing loss %f, acc %f\"%(i,loss,test_l,acc))\n",
        "    \n",
        "    print(\"Aggregate device models to server\")\n",
        "    global_dict = server.state_dict()\n",
        "    for k in global_dict.keys():\n",
        "      results_dict['Bytes Sent'] += getsizeof([devices[i].state_dict()[k].float() for i in range(num_devices)])\n",
        "      #print(\"Total bytes sent so far %d\"%(results_dict['Bytes Sent']))\n",
        "      global_dict[k] = torch.stack([devices[i].state_dict()[k].float() for i in range(num_devices)],0).mean(0)\n",
        "    server.load_state_dict(global_dict)\n",
        "\n",
        "    # test server\n",
        "    test_loss,acc = test(server,testloader)\n",
        "    print(\"Server Accuracy %f, test loss %f\"%(acc,test_loss))\n",
        "    results_dict[\"Server\"].append([test_loss,acc])\n",
        "  time_end = time.time()\n",
        "  total_time = time_end - time_start\n",
        "  with open(file_path+\"/time.txt\",'w') as f:\n",
        "    f.write(str(datetime.timedelta(seconds=total_time)))\n",
        "  print(\"Results Dict\")\n",
        "  print(results_dict)\n",
        "  plot_this(results_dict,num_devices,com_rounds,file_path,algo='Vanilla')\n",
        "  save_models(file_path,devices,server)\n",
        "  with open(file_path+\"/results_dict.pickle\",'wb') as f:\n",
        "    pickle.dump(results_dict,f)\n",
        "  return results_dict"
      ],
      "execution_count": null,
      "outputs": []
    },
    {
      "cell_type": "markdown",
      "metadata": {
        "id": "woZV8dkI4228"
      },
      "source": [
        "# Halt FL"
      ]
    },
    {
      "cell_type": "code",
      "metadata": {
        "id": "uVyqLZWB1AMK"
      },
      "source": [
        "def Halt_FL(train_loader,testloader,num_devices = 4,communication_rounds = 10,epoches = 1,alpha=0.80):\n",
        "  print(\"Set up devices for Halt- FL\")\n",
        "  file_path = input(\"Name of Experiment \")\n",
        "  with open(file_path+\"/time.txt\",'w') as f:\n",
        "    f.write(file_path)\n",
        "  #alpha = 0.75\n",
        "  results_dict = dict()\n",
        "  results_dict['Bytes Sent'] = 0\n",
        "  #num_devices = 4\n",
        "  for i in range(num_devices):\n",
        "    results_dict[\"Device \"+str(i)] = []\n",
        "  results_dict[\"Server\"] = []\n",
        "  #communication_rounds = 10\n",
        "  #epoches = 1\n",
        "  devices = []\n",
        "  for i in range(num_devices): # set up each device and server model\n",
        "    devices.append(Model(Allen_Net))\n",
        "  server = Model(Allen_Net)\n",
        "  time_start = time.time()\n",
        "  for i in range(communication_rounds):\n",
        "    print(\"Starting Communication Round %d\"%(i))\n",
        "    print(\"Transfer Global Model to devices\")\n",
        "    for device in devices:\n",
        "      device.setConvWeights(server.getConvWeights())\n",
        "      device.setDenseWeights(server.getDenseWeights())\n",
        "\n",
        "    print(\"Training each device\")\n",
        "    dense_index = []\n",
        "    for i,device in enumerate(devices):\n",
        "      loss = train(device,train_loader[i],epoches)\n",
        "      test_l,acc = test(device,train_loader[i])\n",
        "      if acc > alpha:### need to check with alpha threshold\n",
        "        dense_index.append(i)\n",
        "      results_dict[\"Device \"+str(i)].append([loss,test_l,acc])\n",
        "      print(\"Device %d has training loss %f, testing loss %f, acc %f\"%(i,loss,test_l,acc))\n",
        "    \n",
        "    print(\"Aggregate device models to server.%d devices met threshold\"%(len(dense_index)))\n",
        "    #global_dict = server.state_dict()\n",
        "    global_conv = server.getConvWeights()\n",
        "    global_dense = server.getDenseWeights()\n",
        "    for k in global_conv.keys():\n",
        "      results_dict['Bytes Sent'] += getsizeof([devices[i].getConvWeights()[k].float() for i in range(num_devices)])\n",
        "      global_conv[k] = torch.stack([devices[i].getConvWeights()[k].float() for i in range(num_devices)],0).mean(0)\n",
        "    if len(dense_index) > 0: # if any device met threshold\n",
        "      for k in global_dense.keys():\n",
        "        results_dict['Bytes Sent'] += getsizeof([devices[i].getDenseWeights()[k].float() for i in dense_index])\n",
        "        global_dense[k] = torch.stack([devices[i].getDenseWeights()[k].float() for i in dense_index],0).mean(0)\n",
        "    #server.load_state_dict(global_dict)\n",
        "    server.setConvWeights(global_conv)\n",
        "    server.setDenseWeights(global_dense)\n",
        "    \n",
        "    # test server\n",
        "    test_loss,acc = test(server,testloader)\n",
        "    print(\"Server Accuracy %f, test loss %f\\n%d bytes sent\"%(acc,test_loss,results_dict['Bytes Sent']))\n",
        "    results_dict[\"Server\"].append([test_loss,acc])\n",
        "  time_end = time.time()\n",
        "  total_time = time_end - time_start\n",
        "  try:\n",
        "    with open(file_path+\"/time.txt\",'w') as f:\n",
        "      f.write(str(datetime.timedelta(seconds=total_time)))\n",
        "  except:\n",
        "    pass\n",
        "  print(\"Results Dict\")\n",
        "  print(results_dict)\n",
        "  plot_this(results_dict,num_devices,com_rounds,file_path,algo='Halt')\n",
        "  save_models(file_path,devices,server)\n",
        "  with open(file_path+\"/results_dict.pickle\",'wb') as f:\n",
        "    pickle.dump(results_dict,f)\n",
        "  return results_dict"
      ],
      "execution_count": null,
      "outputs": []
    },
    {
      "cell_type": "markdown",
      "metadata": {
        "id": "6i3K021PAd3l"
      },
      "source": [
        "# Experiments"
      ]
    },
    {
      "cell_type": "code",
      "metadata": {
        "id": "DNmj1DqnFBLG"
      },
      "source": [
        "num_devices = 4\n",
        "com_rounds= 10\n",
        "epoches = 2\n",
        "batch_size = 4\n",
        "train_loader, testloader = non_iid_cifar10(batch_size=batch_size,num_devices=num_devices)\n",
        "#Halt_FL(train_loader,testloader,num_devices=num_devices,communication_rounds = com_rounds,epoches = epoches,alpha=0.65)\n",
        "Vanilla_FL(train_loader,testloader,num_devices=num_devices,communication_rounds = com_rounds,epoches = epoches)"
      ],
      "execution_count": null,
      "outputs": []
    },
    {
      "cell_type": "code",
      "metadata": {
        "id": "YS_hMvP9A_VY"
      },
      "source": [
        "plot_this(x,num_devices,com_rounds,algo=\"Halt\",file_path=\"test\")"
      ],
      "execution_count": null,
      "outputs": []
    },
    {
      "cell_type": "markdown",
      "metadata": {
        "id": "4dVJKAhWtmPu"
      },
      "source": [
        "# Debug: non-iid not same size as iid\n",
        "Solved July 20th, 2021 8:38pm"
      ]
    },
    {
      "cell_type": "code",
      "metadata": {
        "colab": {
          "base_uri": "https://localhost:8080/"
        },
        "id": "L0j0Idovw4OS",
        "outputId": "dbe61ea7-99d1-4383-83be-c330c8fc81fe"
      },
      "source": [
        "# noniid took 6 mins, iid took 1hr 26 min; is it possible that the non-iid data\n",
        "# has less samples than the iid. Time to find out\n",
        "iid_train, iid_test = iid_cifar10(batch_size=batch_size,num_devices=num_devices)\n",
        "non_train, non_test = non_iid_cifar10(batch_size=batch_size,num_devices=num_devices)\n",
        "assert iid_test.__len__() == non_test.__len__()\n",
        "iid_len = 0\n",
        "non_len = 0\n",
        "for i in range(num_devices):\n",
        "  iid_len += iid_train[i].__len__()\n",
        "  non_len += non_train[i].__len__()\n",
        "assert iid_len == non_len # passed on Juy 20th, 2021"
      ],
      "execution_count": 80,
      "outputs": [
        {
          "output_type": "stream",
          "text": [
            "Files already downloaded and verified\n",
            "Files already downloaded and verified\n",
            "Files already downloaded and verified\n",
            "Files already downloaded and verified\n"
          ],
          "name": "stdout"
        }
      ]
    },
    {
      "cell_type": "code",
      "metadata": {
        "id": "GYnZ2G7qJtO6"
      },
      "source": [
        "print(iid_len)\n",
        "print(non_len)\n",
        "img1,_ = next(iter(iid_train[0]))\n",
        "img2,_ = next(iter(non_train[0]))\n",
        "print(\"%s %s\"%(img2.size(),img1.size()))"
      ],
      "execution_count": null,
      "outputs": []
    },
    {
      "cell_type": "code",
      "metadata": {
        "colab": {
          "base_uri": "https://localhost:8080/"
        },
        "id": "tP7bDfe_SiO2",
        "outputId": "663ba807-aaaa-4415-951a-caa20d348366"
      },
      "source": [
        "non_iid_data = cifar_noniid(trainset,num_devices) # returns dict{user:[[imgslist],[labelslist]]}\n",
        "for i in non_iid_data.keys():\n",
        "  imgs = non_iid_data[i][0]\n",
        "  print(len(imgs)) \n",
        "print(non_iid_data.keys())\n",
        "#print(non_iid_data)"
      ],
      "execution_count": 79,
      "outputs": [
        {
          "output_type": "stream",
          "text": [
            "12500\n",
            "12500\n",
            "12500\n",
            "12500\n",
            "dict_keys([0, 1, 2, 3])\n"
          ],
          "name": "stdout"
        }
      ]
    },
    {
      "cell_type": "code",
      "metadata": {
        "colab": {
          "base_uri": "https://localhost:8080/"
        },
        "id": "gcJrak6tKm_Y",
        "outputId": "79c94259-f945-4b4f-fdbb-8e4fa94ba530"
      },
      "source": [
        "trainset = torchvision.datasets.CIFAR10(root='./data', train=True,\n",
        "                                          download=True)\n",
        "print(trainset.__len__())\n",
        "traindata_split = torch.utils.data.random_split(trainset, [int(trainset.data.shape[0] / num_devices) for _ in range(num_devices)])"
      ],
      "execution_count": 62,
      "outputs": [
        {
          "output_type": "stream",
          "text": [
            "Files already downloaded and verified\n",
            "50000\n"
          ],
          "name": "stdout"
        }
      ]
    },
    {
      "cell_type": "code",
      "metadata": {
        "colab": {
          "base_uri": "https://localhost:8080/"
        },
        "id": "5yCpRW9RQUmk",
        "outputId": "e91718c5-94c4-4716-d82b-627d90afc350"
      },
      "source": [
        "train_loader = [torch.utils.data.DataLoader(x, batch_size=1, shuffle=True) for x in traindata_split]\n",
        "train_loader[0].__len__()"
      ],
      "execution_count": null,
      "outputs": [
        {
          "output_type": "execute_result",
          "data": {
            "text/plain": [
              "12500"
            ]
          },
          "metadata": {
            "tags": []
          },
          "execution_count": 18
        }
      ]
    },
    {
      "cell_type": "markdown",
      "metadata": {
        "id": "soiO1VyB8Sid"
      },
      "source": [
        "# Debug"
      ]
    },
    {
      "cell_type": "code",
      "metadata": {
        "colab": {
          "base_uri": "https://localhost:8080/",
          "height": 1000
        },
        "id": "QTU_dHGdM6Bq",
        "outputId": "c0d2d444-9798-4a46-bdea-d3e18246376c"
      },
      "source": [
        "results_dict = Halt_FL(train_loader=train_loader,testloader=testloader,num_devices = 4,communication_rounds = 10,epoches = 1,alpha=0.80)\n",
        "test_accuracy = [results_dict['Server'][i][1] for i in range(len(results_dict['Server']))]\n",
        "test_loss = [results_dict['Server'][i][0] for i in range(len(results_dict['Server']))]\n",
        "\n",
        "fig,ax = plt.subplots(1,2,figsize=(12,6))\n",
        "ax[0].plot(test_accuracy,'b')\n",
        "ax[0].set_title(\"Global Accuracy vs. Communication %d devices Round alpha = 0.80\\nTotal Bytes Sent %d\"%(4,results_dict['Bytes Sent']))\n",
        "ax[0].set_xlabel(\"Communication Round\")\n",
        "ax[0].set_ylabel(\"Accuracy\")\n",
        "ax[1].plot(test_loss,'g')\n",
        "ax[1].set_title(\"Global Loss vs. Communication Round alpha = 0.80\")\n",
        "ax[1].set_xlabel(\"Communication Round\")\n",
        "ax[1].set_ylabel(\"Neg. Log Likihood Loss\")\n",
        "fig.show()\n",
        "fig.savefig(\"Halt_FL_alpha=.80.png\")"
      ],
      "execution_count": null,
      "outputs": [
        {
          "output_type": "stream",
          "text": [
            "Set up devices for Halt- FL\n",
            "Starting Communication Round 0\n",
            "Transfer Global Model to devices\n",
            "Training each device\n",
            "Device 0 has training loss 0.184068, testing loss 0.678118, acc 0.656000\n",
            "Device 1 has training loss 0.182043, testing loss 0.515881, acc 0.754000\n",
            "Device 2 has training loss 0.130316, testing loss 0.310045, acc 0.882000\n",
            "Device 3 has training loss 0.189593, testing loss 0.508092, acc 0.746000\n",
            "Aggregate device models to server.1 devices met threshold\n",
            "Server Accuracy 0.100000, test loss 4.773258\n",
            "4056 bytes sent\n",
            "Starting Communication Round 1\n",
            "Transfer Global Model to devices\n",
            "Training each device\n",
            "Device 0 has training loss 0.221366, testing loss 0.399749, acc 0.844000\n",
            "Device 1 has training loss 0.232930, testing loss 0.419145, acc 0.832000\n",
            "Device 2 has training loss 0.072712, testing loss 0.199163, acc 0.910000\n",
            "Device 3 has training loss 0.238155, testing loss 0.477121, acc 0.750000\n",
            "Aggregate device models to server.3 devices met threshold\n",
            "Server Accuracy 0.103100, test loss 2.568888\n",
            "8112 bytes sent\n",
            "Starting Communication Round 2\n",
            "Transfer Global Model to devices\n",
            "Training each device\n",
            "Device 0 has training loss 0.148402, testing loss 0.384097, acc 0.820000\n",
            "Device 1 has training loss 0.153803, testing loss 0.355898, acc 0.862000\n",
            "Device 2 has training loss 0.116139, testing loss 0.249411, acc 0.902000\n",
            "Device 3 has training loss 0.183886, testing loss 0.533172, acc 0.754000\n",
            "Aggregate device models to server.3 devices met threshold\n",
            "Server Accuracy 0.104700, test loss 2.819096\n",
            "12168 bytes sent\n",
            "Starting Communication Round 3\n",
            "Transfer Global Model to devices\n",
            "Training each device\n",
            "Device 0 has training loss 0.141288, testing loss 0.326166, acc 0.874000\n",
            "Device 1 has training loss 0.139027, testing loss 0.390451, acc 0.848000\n",
            "Device 2 has training loss 0.085030, testing loss 0.144863, acc 0.944000\n",
            "Device 3 has training loss 0.174836, testing loss 0.463889, acc 0.784000\n",
            "Aggregate device models to server.3 devices met threshold\n",
            "Server Accuracy 0.128200, test loss 2.787055\n",
            "16224 bytes sent\n",
            "Starting Communication Round 4\n",
            "Transfer Global Model to devices\n",
            "Training each device\n",
            "Device 0 has training loss 0.129711, testing loss 0.355950, acc 0.856000\n",
            "Device 1 has training loss 0.118760, testing loss 0.462818, acc 0.768000\n",
            "Device 2 has training loss 0.086436, testing loss 0.165007, acc 0.952000\n",
            "Device 3 has training loss 0.173679, testing loss 0.333366, acc 0.858000\n",
            "Aggregate device models to server.3 devices met threshold\n",
            "Server Accuracy 0.133900, test loss 2.743596\n",
            "20280 bytes sent\n",
            "Starting Communication Round 5\n",
            "Transfer Global Model to devices\n",
            "Training each device\n",
            "Device 0 has training loss 0.115158, testing loss 0.324357, acc 0.860000\n",
            "Device 1 has training loss 0.146917, testing loss 0.274665, acc 0.910000\n",
            "Device 2 has training loss 0.071456, testing loss 0.341440, acc 0.848000\n",
            "Device 3 has training loss 0.129046, testing loss 0.302532, acc 0.872000\n",
            "Aggregate device models to server.4 devices met threshold\n",
            "Server Accuracy 0.104800, test loss 2.643694\n",
            "24336 bytes sent\n",
            "Starting Communication Round 6\n",
            "Transfer Global Model to devices\n",
            "Training each device\n",
            "Device 0 has training loss 0.121067, testing loss 0.332477, acc 0.850000\n",
            "Device 1 has training loss 0.112589, testing loss 0.223204, acc 0.934000\n",
            "Device 2 has training loss 0.072034, testing loss 0.213988, acc 0.920000\n",
            "Device 3 has training loss 0.128289, testing loss 0.427006, acc 0.788000\n",
            "Aggregate device models to server.3 devices met threshold\n",
            "Server Accuracy 0.102100, test loss 2.802273\n",
            "28392 bytes sent\n",
            "Starting Communication Round 7\n",
            "Transfer Global Model to devices\n",
            "Training each device\n",
            "Device 0 has training loss 0.100842, testing loss 0.234907, acc 0.922000\n",
            "Device 1 has training loss 0.112649, testing loss 0.248358, acc 0.902000\n",
            "Device 2 has training loss 0.060471, testing loss 0.066230, acc 0.982000\n",
            "Device 3 has training loss 0.155538, testing loss 0.445277, acc 0.774000\n",
            "Aggregate device models to server.3 devices met threshold\n",
            "Server Accuracy 0.129300, test loss 2.893063\n",
            "32448 bytes sent\n",
            "Starting Communication Round 8\n",
            "Transfer Global Model to devices\n",
            "Training each device\n",
            "Device 0 has training loss 0.092347, testing loss 0.230675, acc 0.908000\n",
            "Device 1 has training loss 0.085881, testing loss 0.228027, acc 0.912000\n",
            "Device 2 has training loss 0.047336, testing loss 0.057609, acc 0.984000\n",
            "Device 3 has training loss 0.154687, testing loss 0.272712, acc 0.910000\n",
            "Aggregate device models to server.4 devices met threshold\n",
            "Server Accuracy 0.112000, test loss 2.712865\n",
            "36504 bytes sent\n",
            "Starting Communication Round 9\n",
            "Transfer Global Model to devices\n",
            "Training each device\n",
            "Device 0 has training loss 0.092372, testing loss 0.208441, acc 0.922000\n",
            "Device 1 has training loss 0.090837, testing loss 0.402364, acc 0.796000\n",
            "Device 2 has training loss 0.054064, testing loss 0.258951, acc 0.888000\n",
            "Device 3 has training loss 0.095861, testing loss 0.259597, acc 0.884000\n",
            "Aggregate device models to server.3 devices met threshold\n",
            "Server Accuracy 0.113900, test loss 3.042198\n",
            "40560 bytes sent\n",
            "Results Dict\n",
            "{'Bytes Sent': 40560, 'Device 0': [[0.1840680055990815, 0.6781181142330169, 0.656], [0.22136590526998043, 0.3997487518191338, 0.844], [0.14840156668424606, 0.38409699738025666, 0.82], [0.14128784435242414, 0.3261659445762634, 0.874], [0.12971059332042933, 0.35595033848285673, 0.856], [0.11515801707655192, 0.32435653601586817, 0.86], [0.12106699077785014, 0.33247702407836915, 0.85], [0.10084190851077438, 0.23490665481239556, 0.922], [0.09234711972251534, 0.23067472810298204, 0.908], [0.09237241028435528, 0.20844085970520973, 0.922]], 'Device 1': [[0.18204348450899124, 0.5158810300827026, 0.754], [0.23293045496940612, 0.41914481645822527, 0.832], [0.15380311797559262, 0.3558984252810478, 0.862], [0.13902668368816376, 0.39045139491558073, 0.848], [0.11875985876470804, 0.46281843587756155, 0.768], [0.14691670183837413, 0.274665362983942, 0.91], [0.11258886735886335, 0.2232036014944315, 0.934], [0.11264920882508159, 0.24835778013244272, 0.902], [0.08588086434267461, 0.22802747691236436, 0.912], [0.0908374668173492, 0.40236446166038514, 0.796]], 'Device 2': [[0.1303164696767926, 0.31004538083821537, 0.882], [0.07271204226557165, 0.19916328360885382, 0.91], [0.1161390961483121, 0.24941137656988577, 0.902], [0.0850298527032137, 0.14486251061595976, 0.944], [0.0864363591792062, 0.16500729041174053, 0.952], [0.07145585217978806, 0.34144016622006895, 0.848], [0.0720336700277403, 0.21398817275464535, 0.92], [0.06047110798629001, 0.0662298231786117, 0.982], [0.047335922620492056, 0.057608684617094695, 0.984], [0.05406395603809506, 0.2589507228329312, 0.888]], 'Device 3': [[0.18959311991930008, 0.508092100262642, 0.746], [0.23815486255288124, 0.47712132239341737, 0.75], [0.18388595505058766, 0.5331715807318688, 0.754], [0.17483607248216868, 0.4638892970532179, 0.784], [0.17367909079045057, 0.33336585548520087, 0.858], [0.12904558458924292, 0.30253181751072405, 0.872], [0.1282885628864169, 0.42700591941922905, 0.788], [0.1555382454916835, 0.445276776432991, 0.774], [0.15468660649657248, 0.2727117428928614, 0.91], [0.09586141754128039, 0.2595973070971668, 0.884]], 'Server': [[4.773258208823204, 0.1], [2.5688883441448214, 0.1031], [2.8190955624103546, 0.1047], [2.7870551079273223, 0.1282], [2.743596360063553, 0.1339], [2.6436940209388733, 0.1048], [2.8022726259708404, 0.1021], [2.893063165855408, 0.1293], [2.712864880895615, 0.112], [3.042197954034805, 0.1139]]}\n"
          ],
          "name": "stdout"
        },
        {
          "output_type": "display_data",
          "data": {
            "image/png": "[encoded data removed]",
            "text/plain": [
              "<Figure size 864x432 with 2 Axes>"
            ]
          },
          "metadata": {
            "tags": [],
            "needs_background": "light"
          }
        }
      ]
    },
    {
      "cell_type": "code",
      "metadata": {
        "id": "GXUYxgeyJZwm",
        "colab": {
          "base_uri": "https://localhost:8080/"
        },
        "outputId": "a4721e41-5b06-4e70-b595-874f3f1180f2"
      },
      "source": [
        "x = cifar_noniid(trainset,10)\n",
        "#to check that all 10 classes are present\n",
        "labels = set()\n",
        "for key in x.keys():\n",
        "  labels = labels | set(x[key][1])\n",
        "print(labels)\n",
        "print(x.keys())\n",
        "# keys - index for each device\n",
        "# values - ndarray of"
      ],
      "execution_count": null,
      "outputs": [
        {
          "output_type": "stream",
          "text": [
            "{0, 1, 2, 4, 5, 6, 7, 8, 9}\n",
            "dict_keys([0, 1, 2, 3, 4, 5, 6, 7, 8, 9])\n"
          ],
          "name": "stdout"
        }
      ]
    },
    {
      "cell_type": "code",
      "metadata": {
        "colab": {
          "base_uri": "https://localhost:8080/"
        },
        "id": "4g91T3zcDer-",
        "outputId": "8ead7aad-93b8-44da-a904-2b167d6801e3"
      },
      "source": [
        "# to continue training: old needs to be changined for iid data: june 11th\n",
        "for i in range(3,10):\n",
        "  print(\"Starting Communication Round %d\"%(i))\n",
        "  print(\"Transfer Global Model to devices\")\n",
        "  for device in devices:\n",
        "    device.setConvWeights(server)\n",
        "    device.setDenseWeights(server)\n",
        "\n",
        "  print(\"Training each device\")\n",
        "  for i,device in enumerate(devices):\n",
        "    accuracy = device.train(trainloader,epoches)\n",
        "    results_dict[\"Device \"+str(i)].append(accuracy)\n",
        "    print(\"Device %d has accuracy %f\"%(i,accuracy))\n",
        "  \n",
        "  print(\"Aggregate device models to server\")\n",
        "  global_conv = []\n",
        "  global_dense = []\n",
        "  for device in devices:\n",
        "    global_conv.append(device.getConvWeights())\n",
        "    global_dense.append(device.getDenseWeights())\n",
        "  x = global_conv[0]\n",
        "  y = global_dense[0]\n",
        "  for idx in range(1,num_devices,1):#from index 1 to the end\n",
        "    x = list(map(add,x,global_conv[idx]))\n",
        "    y = list(map(add,y,global_dense[idx]))\n",
        "  x = [torch.div(conv,num_devices) for conv in x]\n",
        "  y = [torch.div(dense,num_devices) for dense in y]\n",
        "  server.set_weights(x,y)\n",
        "  accuracy = server.train(trainloader,epoches)\n",
        "  results_dict[\"Server\"].append(accuracy)\n",
        "print(\"Results Dict\")\n",
        "print(results_dict)"
      ],
      "execution_count": null,
      "outputs": [
        {
          "output_type": "stream",
          "text": [
            "Starting Communication Round 3\n",
            "Transfer Global Model to devices\n",
            "Training each device\n"
          ],
          "name": "stdout"
        },
        {
          "output_type": "stream",
          "text": [
            "/usr/local/lib/python3.7/dist-packages/ipykernel_launcher.py:59: UserWarning: To copy construct from a tensor, it is recommended to use sourceTensor.clone().detach() or sourceTensor.clone().detach().requires_grad_(True), rather than tensor.new_tensor(sourceTensor).\n",
            "/usr/local/lib/python3.7/dist-packages/ipykernel_launcher.py:60: UserWarning: To copy construct from a tensor, it is recommended to use sourceTensor.clone().detach() or sourceTensor.clone().detach().requires_grad_(True), rather than tensor.new_tensor(sourceTensor).\n",
            "/usr/local/lib/python3.7/dist-packages/ipykernel_launcher.py:61: UserWarning: To copy construct from a tensor, it is recommended to use sourceTensor.clone().detach() or sourceTensor.clone().detach().requires_grad_(True), rather than tensor.new_tensor(sourceTensor).\n",
            "/usr/local/lib/python3.7/dist-packages/ipykernel_launcher.py:62: UserWarning: To copy construct from a tensor, it is recommended to use sourceTensor.clone().detach() or sourceTensor.clone().detach().requires_grad_(True), rather than tensor.new_tensor(sourceTensor).\n",
            "/usr/local/lib/python3.7/dist-packages/ipykernel_launcher.py:63: UserWarning: To copy construct from a tensor, it is recommended to use sourceTensor.clone().detach() or sourceTensor.clone().detach().requires_grad_(True), rather than tensor.new_tensor(sourceTensor).\n",
            "/usr/local/lib/python3.7/dist-packages/ipykernel_launcher.py:64: UserWarning: To copy construct from a tensor, it is recommended to use sourceTensor.clone().detach() or sourceTensor.clone().detach().requires_grad_(True), rather than tensor.new_tensor(sourceTensor).\n",
            "/usr/local/lib/python3.7/dist-packages/ipykernel_launcher.py:66: UserWarning: To copy construct from a tensor, it is recommended to use sourceTensor.clone().detach() or sourceTensor.clone().detach().requires_grad_(True), rather than tensor.new_tensor(sourceTensor).\n",
            "/usr/local/lib/python3.7/dist-packages/ipykernel_launcher.py:67: UserWarning: To copy construct from a tensor, it is recommended to use sourceTensor.clone().detach() or sourceTensor.clone().detach().requires_grad_(True), rather than tensor.new_tensor(sourceTensor).\n",
            "/usr/local/lib/python3.7/dist-packages/torch/nn/modules/container.py:119: UserWarning: Implicit dimension choice for softmax has been deprecated. Change the call to include dim=X as an argument.\n",
            "  input = module(input)\n"
          ],
          "name": "stderr"
        },
        {
          "output_type": "stream",
          "text": [
            "Device 0 has accuracy 0.101000\n",
            "Device 1 has accuracy 0.100000\n",
            "Device 2 has accuracy 0.100000\n",
            "Device 3 has accuracy 0.100000\n",
            "Aggregate device models to server\n"
          ],
          "name": "stdout"
        },
        {
          "output_type": "stream",
          "text": [
            "/usr/local/lib/python3.7/dist-packages/ipykernel_launcher.py:70: UserWarning: To copy construct from a tensor, it is recommended to use sourceTensor.clone().detach() or sourceTensor.clone().detach().requires_grad_(True), rather than tensor.new_tensor(sourceTensor).\n",
            "/usr/local/lib/python3.7/dist-packages/ipykernel_launcher.py:71: UserWarning: To copy construct from a tensor, it is recommended to use sourceTensor.clone().detach() or sourceTensor.clone().detach().requires_grad_(True), rather than tensor.new_tensor(sourceTensor).\n",
            "/usr/local/lib/python3.7/dist-packages/ipykernel_launcher.py:72: UserWarning: To copy construct from a tensor, it is recommended to use sourceTensor.clone().detach() or sourceTensor.clone().detach().requires_grad_(True), rather than tensor.new_tensor(sourceTensor).\n",
            "/usr/local/lib/python3.7/dist-packages/ipykernel_launcher.py:73: UserWarning: To copy construct from a tensor, it is recommended to use sourceTensor.clone().detach() or sourceTensor.clone().detach().requires_grad_(True), rather than tensor.new_tensor(sourceTensor).\n",
            "/usr/local/lib/python3.7/dist-packages/ipykernel_launcher.py:74: UserWarning: To copy construct from a tensor, it is recommended to use sourceTensor.clone().detach() or sourceTensor.clone().detach().requires_grad_(True), rather than tensor.new_tensor(sourceTensor).\n",
            "/usr/local/lib/python3.7/dist-packages/ipykernel_launcher.py:75: UserWarning: To copy construct from a tensor, it is recommended to use sourceTensor.clone().detach() or sourceTensor.clone().detach().requires_grad_(True), rather than tensor.new_tensor(sourceTensor).\n",
            "/usr/local/lib/python3.7/dist-packages/ipykernel_launcher.py:76: UserWarning: To copy construct from a tensor, it is recommended to use sourceTensor.clone().detach() or sourceTensor.clone().detach().requires_grad_(True), rather than tensor.new_tensor(sourceTensor).\n",
            "/usr/local/lib/python3.7/dist-packages/ipykernel_launcher.py:77: UserWarning: To copy construct from a tensor, it is recommended to use sourceTensor.clone().detach() or sourceTensor.clone().detach().requires_grad_(True), rather than tensor.new_tensor(sourceTensor).\n"
          ],
          "name": "stderr"
        },
        {
          "output_type": "stream",
          "text": [
            "Starting Communication Round 4\n",
            "Transfer Global Model to devices\n",
            "Training each device\n",
            "Device 0 has accuracy 0.285720\n",
            "Device 1 has accuracy 0.100000\n",
            "Device 2 has accuracy 0.100000\n",
            "Device 3 has accuracy 0.170760\n",
            "Aggregate device models to server\n",
            "Starting Communication Round 5\n",
            "Transfer Global Model to devices\n",
            "Training each device\n",
            "Device 0 has accuracy 0.340680\n",
            "Device 1 has accuracy 0.232540\n",
            "Device 2 has accuracy 0.100060\n",
            "Device 3 has accuracy 0.321460\n",
            "Aggregate device models to server\n",
            "Starting Communication Round 6\n",
            "Transfer Global Model to devices\n",
            "Training each device\n",
            "Device 0 has accuracy 0.374020\n",
            "Device 1 has accuracy 0.306640\n",
            "Device 2 has accuracy 0.234840\n"
          ],
          "name": "stdout"
        }
      ]
    },
    {
      "cell_type": "code",
      "metadata": {
        "id": "_C9dBBPerTtd"
      },
      "source": [
        "print(\"Results Dict\")\n",
        "print(results_dict)"
      ],
      "execution_count": null,
      "outputs": []
    },
    {
      "cell_type": "code",
      "metadata": {
        "id": "ApDadrQt1_gd"
      },
      "source": [
        "# check aggregation\n",
        "global_conv = []\n",
        "global_dense = []\n",
        "for device in devices:\n",
        "  global_conv.append(device.getConvWeights())\n",
        "  global_dense.append(device.getDenseWeights())\n",
        "#print(global_conv)\n",
        "x = global_conv[0]\n",
        "y = global_dense[0]\n",
        "#print(x[0][0])\n",
        "for idx in range(1,num_devices,1):\n",
        "  print(idx)\n",
        "  x = list(map(add,x,global_conv[idx]))\n",
        "  y = list(map(add,y,global_dense[idx]))\n",
        "print(x[0][0])\n",
        "adi = input(\"continue\")\n",
        "x = [torch.div(conv,num_devices) for conv in x]\n",
        "y = [torch.div(dense,num_devices) for dense in y]\n",
        "print(x[0][0])\n",
        "# it works"
      ],
      "execution_count": null,
      "outputs": []
    },
    {
      "cell_type": "code",
      "metadata": {
        "id": "qmH6L60d3GCB"
      },
      "source": [
        "print(global_conv[0][0][0])\n",
        "print(global_conv[1][0][0])\n",
        "print(global_conv[2][0][0])"
      ],
      "execution_count": null,
      "outputs": []
    },
    {
      "cell_type": "code",
      "metadata": {
        "id": "A4UV8Oq-4yFX"
      },
      "source": [
        "len(global_conv)\n",
        "print(range(2,num_devices,1))\n"
      ],
      "execution_count": null,
      "outputs": []
    },
    {
      "cell_type": "code",
      "metadata": {
        "id": "PlJ0x9JIzJRv"
      },
      "source": [
        "server.train(trainloader,epoches)"
      ],
      "execution_count": null,
      "outputs": []
    },
    {
      "cell_type": "code",
      "metadata": {
        "id": "9f6Thc7ezDOn"
      },
      "source": [
        "a = torch.randn(4, 4)\n",
        "b = torch.randn(4, 4)\n",
        "torch.mean(Tensor(a,b))"
      ],
      "execution_count": null,
      "outputs": []
    },
    {
      "cell_type": "code",
      "metadata": {
        "id": "MEBXnL0mWLc_"
      },
      "source": [
        ""
      ],
      "execution_count": null,
      "outputs": []
    },
    {
      "cell_type": "code",
      "metadata": {
        "id": "X574X7-7IHR-"
      },
      "source": [
        "# look here: https://github.com/AshwinRJ/Federated-Learning-PyTorch/blob/master/src/sampling.py"
      ],
      "execution_count": null,
      "outputs": []
    },
    {
      "cell_type": "code",
      "metadata": {
        "id": "RXGarVviQRHO"
      },
      "source": [
        ""
      ],
      "execution_count": null,
      "outputs": []
    }
  ]
}